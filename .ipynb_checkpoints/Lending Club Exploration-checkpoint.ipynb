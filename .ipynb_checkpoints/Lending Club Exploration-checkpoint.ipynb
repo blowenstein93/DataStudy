{
 "cells": [
  {
   "cell_type": "code",
   "execution_count": 1,
   "metadata": {},
   "outputs": [],
   "source": [
    "import pandas as pd\n",
    "import numpy as np\n",
    "import matplotlib.pyplot as pt\n",
    "from sklearn import linear_model\n",
    "import seaborn as sb\n"
   ]
  },
  {
   "cell_type": "code",
   "execution_count": 2,
   "metadata": {},
   "outputs": [],
   "source": [
    "path = \"./loan.csv\"\n",
    "inputDf = pd.read_csv(path, sep = \",\", low_memory=False)"
   ]
  },
  {
   "cell_type": "code",
   "execution_count": 3,
   "metadata": {},
   "outputs": [],
   "source": [
    "selectedCols = inputDf.copy(deep = True)"
   ]
  },
  {
   "cell_type": "markdown",
   "metadata": {},
   "source": [
    "# Part One - Data Exploration"
   ]
  },
  {
   "cell_type": "markdown",
   "metadata": {},
   "source": [
    "### parse data into numeric where relevant"
   ]
  },
  {
   "cell_type": "code",
   "execution_count": 4,
   "metadata": {},
   "outputs": [
    {
     "data": {
      "text/html": [
       "<div>\n",
       "<style scoped>\n",
       "    .dataframe tbody tr th:only-of-type {\n",
       "        vertical-align: middle;\n",
       "    }\n",
       "\n",
       "    .dataframe tbody tr th {\n",
       "        vertical-align: top;\n",
       "    }\n",
       "\n",
       "    .dataframe thead th {\n",
       "        text-align: right;\n",
       "    }\n",
       "</style>\n",
       "<table border=\"1\" class=\"dataframe\">\n",
       "  <thead>\n",
       "    <tr style=\"text-align: right;\">\n",
       "      <th></th>\n",
       "      <th>60 months</th>\n",
       "      <th>id</th>\n",
       "      <th>member_id</th>\n",
       "      <th>loan_amnt</th>\n",
       "      <th>funded_amnt</th>\n",
       "      <th>funded_amnt_inv</th>\n",
       "      <th>int_rate</th>\n",
       "      <th>installment</th>\n",
       "      <th>grade</th>\n",
       "      <th>sub_grade</th>\n",
       "      <th>...</th>\n",
       "      <th>total_bal_il</th>\n",
       "      <th>il_util</th>\n",
       "      <th>open_rv_12m</th>\n",
       "      <th>open_rv_24m</th>\n",
       "      <th>max_bal_bc</th>\n",
       "      <th>all_util</th>\n",
       "      <th>total_rev_hi_lim</th>\n",
       "      <th>inq_fi</th>\n",
       "      <th>total_cu_tl</th>\n",
       "      <th>inq_last_12m</th>\n",
       "    </tr>\n",
       "  </thead>\n",
       "  <tbody>\n",
       "    <tr>\n",
       "      <th>0</th>\n",
       "      <td>0</td>\n",
       "      <td>1077501</td>\n",
       "      <td>1296599</td>\n",
       "      <td>5000.0</td>\n",
       "      <td>5000.0</td>\n",
       "      <td>4975.0</td>\n",
       "      <td>10.65</td>\n",
       "      <td>162.87</td>\n",
       "      <td>B</td>\n",
       "      <td>B2</td>\n",
       "      <td>...</td>\n",
       "      <td>NaN</td>\n",
       "      <td>NaN</td>\n",
       "      <td>NaN</td>\n",
       "      <td>NaN</td>\n",
       "      <td>NaN</td>\n",
       "      <td>NaN</td>\n",
       "      <td>NaN</td>\n",
       "      <td>NaN</td>\n",
       "      <td>NaN</td>\n",
       "      <td>NaN</td>\n",
       "    </tr>\n",
       "    <tr>\n",
       "      <th>1</th>\n",
       "      <td>1</td>\n",
       "      <td>1077430</td>\n",
       "      <td>1314167</td>\n",
       "      <td>2500.0</td>\n",
       "      <td>2500.0</td>\n",
       "      <td>2500.0</td>\n",
       "      <td>15.27</td>\n",
       "      <td>59.83</td>\n",
       "      <td>C</td>\n",
       "      <td>C4</td>\n",
       "      <td>...</td>\n",
       "      <td>NaN</td>\n",
       "      <td>NaN</td>\n",
       "      <td>NaN</td>\n",
       "      <td>NaN</td>\n",
       "      <td>NaN</td>\n",
       "      <td>NaN</td>\n",
       "      <td>NaN</td>\n",
       "      <td>NaN</td>\n",
       "      <td>NaN</td>\n",
       "      <td>NaN</td>\n",
       "    </tr>\n",
       "    <tr>\n",
       "      <th>2</th>\n",
       "      <td>0</td>\n",
       "      <td>1077175</td>\n",
       "      <td>1313524</td>\n",
       "      <td>2400.0</td>\n",
       "      <td>2400.0</td>\n",
       "      <td>2400.0</td>\n",
       "      <td>15.96</td>\n",
       "      <td>84.33</td>\n",
       "      <td>C</td>\n",
       "      <td>C5</td>\n",
       "      <td>...</td>\n",
       "      <td>NaN</td>\n",
       "      <td>NaN</td>\n",
       "      <td>NaN</td>\n",
       "      <td>NaN</td>\n",
       "      <td>NaN</td>\n",
       "      <td>NaN</td>\n",
       "      <td>NaN</td>\n",
       "      <td>NaN</td>\n",
       "      <td>NaN</td>\n",
       "      <td>NaN</td>\n",
       "    </tr>\n",
       "    <tr>\n",
       "      <th>3</th>\n",
       "      <td>0</td>\n",
       "      <td>1076863</td>\n",
       "      <td>1277178</td>\n",
       "      <td>10000.0</td>\n",
       "      <td>10000.0</td>\n",
       "      <td>10000.0</td>\n",
       "      <td>13.49</td>\n",
       "      <td>339.31</td>\n",
       "      <td>C</td>\n",
       "      <td>C1</td>\n",
       "      <td>...</td>\n",
       "      <td>NaN</td>\n",
       "      <td>NaN</td>\n",
       "      <td>NaN</td>\n",
       "      <td>NaN</td>\n",
       "      <td>NaN</td>\n",
       "      <td>NaN</td>\n",
       "      <td>NaN</td>\n",
       "      <td>NaN</td>\n",
       "      <td>NaN</td>\n",
       "      <td>NaN</td>\n",
       "    </tr>\n",
       "    <tr>\n",
       "      <th>4</th>\n",
       "      <td>1</td>\n",
       "      <td>1075358</td>\n",
       "      <td>1311748</td>\n",
       "      <td>3000.0</td>\n",
       "      <td>3000.0</td>\n",
       "      <td>3000.0</td>\n",
       "      <td>12.69</td>\n",
       "      <td>67.79</td>\n",
       "      <td>B</td>\n",
       "      <td>B5</td>\n",
       "      <td>...</td>\n",
       "      <td>NaN</td>\n",
       "      <td>NaN</td>\n",
       "      <td>NaN</td>\n",
       "      <td>NaN</td>\n",
       "      <td>NaN</td>\n",
       "      <td>NaN</td>\n",
       "      <td>NaN</td>\n",
       "      <td>NaN</td>\n",
       "      <td>NaN</td>\n",
       "      <td>NaN</td>\n",
       "    </tr>\n",
       "  </tbody>\n",
       "</table>\n",
       "<p>5 rows × 74 columns</p>\n",
       "</div>"
      ],
      "text/plain": [
       "    60 months       id  member_id  loan_amnt  funded_amnt  funded_amnt_inv  \\\n",
       "0           0  1077501    1296599     5000.0       5000.0           4975.0   \n",
       "1           1  1077430    1314167     2500.0       2500.0           2500.0   \n",
       "2           0  1077175    1313524     2400.0       2400.0           2400.0   \n",
       "3           0  1076863    1277178    10000.0      10000.0          10000.0   \n",
       "4           1  1075358    1311748     3000.0       3000.0           3000.0   \n",
       "\n",
       "   int_rate  installment grade sub_grade     ...      total_bal_il il_util  \\\n",
       "0     10.65       162.87     B        B2     ...               NaN     NaN   \n",
       "1     15.27        59.83     C        C4     ...               NaN     NaN   \n",
       "2     15.96        84.33     C        C5     ...               NaN     NaN   \n",
       "3     13.49       339.31     C        C1     ...               NaN     NaN   \n",
       "4     12.69        67.79     B        B5     ...               NaN     NaN   \n",
       "\n",
       "  open_rv_12m  open_rv_24m max_bal_bc all_util total_rev_hi_lim inq_fi  \\\n",
       "0         NaN          NaN        NaN      NaN              NaN    NaN   \n",
       "1         NaN          NaN        NaN      NaN              NaN    NaN   \n",
       "2         NaN          NaN        NaN      NaN              NaN    NaN   \n",
       "3         NaN          NaN        NaN      NaN              NaN    NaN   \n",
       "4         NaN          NaN        NaN      NaN              NaN    NaN   \n",
       "\n",
       "  total_cu_tl inq_last_12m  \n",
       "0         NaN          NaN  \n",
       "1         NaN          NaN  \n",
       "2         NaN          NaN  \n",
       "3         NaN          NaN  \n",
       "4         NaN          NaN  \n",
       "\n",
       "[5 rows x 74 columns]"
      ]
     },
     "execution_count": 4,
     "metadata": {},
     "output_type": "execute_result"
    }
   ],
   "source": [
    "termDummies = pd.get_dummies(selectedCols[\"term\"]).drop(columns = [\" 36 months\"])\n",
    "selectedCols = termDummies.join(selectedCols.drop(columns = [\"term\"]))\n",
    "selectedCols.head()"
   ]
  },
  {
   "cell_type": "code",
   "execution_count": 5,
   "metadata": {},
   "outputs": [],
   "source": [
    "selectedCols[\"origYear\"] = selectedCols[\"issue_d\"].str.extract(\"\\w{3}-(\\d{4})\")\n",
    "selectedCols = selectedCols.drop(columns= [\"issue_d\"])"
   ]
  },
  {
   "cell_type": "code",
   "execution_count": 6,
   "metadata": {},
   "outputs": [],
   "source": [
    "typedDf = selectedCols.copy(deep = True)"
   ]
  },
  {
   "cell_type": "markdown",
   "metadata": {},
   "source": [
    "## look at distributions"
   ]
  },
  {
   "cell_type": "code",
   "execution_count": 7,
   "metadata": {},
   "outputs": [
    {
     "data": {
      "text/plain": [
       " 60 months                       uint8\n",
       "id                               int64\n",
       "member_id                        int64\n",
       "loan_amnt                      float64\n",
       "funded_amnt                    float64\n",
       "funded_amnt_inv                float64\n",
       "int_rate                       float64\n",
       "installment                    float64\n",
       "grade                           object\n",
       "sub_grade                       object\n",
       "emp_title                       object\n",
       "emp_length                      object\n",
       "home_ownership                  object\n",
       "annual_inc                     float64\n",
       "verification_status             object\n",
       "loan_status                     object\n",
       "pymnt_plan                      object\n",
       "url                             object\n",
       "desc                            object\n",
       "purpose                         object\n",
       "title                           object\n",
       "zip_code                        object\n",
       "addr_state                      object\n",
       "dti                            float64\n",
       "delinq_2yrs                    float64\n",
       "earliest_cr_line                object\n",
       "inq_last_6mths                 float64\n",
       "mths_since_last_delinq         float64\n",
       "mths_since_last_record         float64\n",
       "open_acc                       float64\n",
       "                                ...   \n",
       "last_pymnt_d                    object\n",
       "last_pymnt_amnt                float64\n",
       "next_pymnt_d                    object\n",
       "last_credit_pull_d              object\n",
       "collections_12_mths_ex_med     float64\n",
       "mths_since_last_major_derog    float64\n",
       "policy_code                    float64\n",
       "application_type                object\n",
       "annual_inc_joint               float64\n",
       "dti_joint                      float64\n",
       "verification_status_joint       object\n",
       "acc_now_delinq                 float64\n",
       "tot_coll_amt                   float64\n",
       "tot_cur_bal                    float64\n",
       "open_acc_6m                    float64\n",
       "open_il_6m                     float64\n",
       "open_il_12m                    float64\n",
       "open_il_24m                    float64\n",
       "mths_since_rcnt_il             float64\n",
       "total_bal_il                   float64\n",
       "il_util                        float64\n",
       "open_rv_12m                    float64\n",
       "open_rv_24m                    float64\n",
       "max_bal_bc                     float64\n",
       "all_util                       float64\n",
       "total_rev_hi_lim               float64\n",
       "inq_fi                         float64\n",
       "total_cu_tl                    float64\n",
       "inq_last_12m                   float64\n",
       "origYear                        object\n",
       "Length: 74, dtype: object"
      ]
     },
     "execution_count": 7,
     "metadata": {},
     "output_type": "execute_result"
    }
   ],
   "source": [
    "# looking at data types\n",
    "typedDf.dtypes"
   ]
  },
  {
   "cell_type": "code",
   "execution_count": 8,
   "metadata": {},
   "outputs": [
    {
     "data": {
      "text/plain": [
       "<seaborn.axisgrid.FacetGrid at 0x1a27177b38>"
      ]
     },
     "execution_count": 8,
     "metadata": {},
     "output_type": "execute_result"
    },
    {
     "data": {
      "image/png": "[encoded data removed]",
      "text/plain": [
       "<Figure size 360x360 with 1 Axes>"
      ]
     },
     "metadata": {
      "needs_background": "light"
     },
     "output_type": "display_data"
    }
   ],
   "source": [
    "sb.catplot(x=\"grade\", y=\"int_rate\", data=typedDf, kind=\"box\", order = (\"A\", \"B\", \"C\", \"D\", \"E\", \"F\",\"G\"))\n",
    "## worried that grades and interest rates lead to multicolinearity problems\n",
    "## also notice that all grades except A and G have some sort of 'outlier' interest rate at 5%."
   ]
  },
  {
   "cell_type": "code",
   "execution_count": 9,
   "metadata": {},
   "outputs": [],
   "source": [
    "# convert grades to numerics\n",
    "gradeDummies = pd.get_dummies(selectedCols[\"grade\"], prefix=\"grade\")\n",
    "selectedColsNoGrade = typedDf.drop(columns=[\"grade\"])\n",
    "dummiedGradesDf = gradeDummies.join(selectedColsNoGrade)\n",
    "del selectedColsNoGrade\n",
    "del selectedCols"
   ]
  },
  {
   "cell_type": "code",
   "execution_count": 10,
   "metadata": {},
   "outputs": [],
   "source": [
    "dummiedGradesDf[\"grade\"] = dummiedGradesDf[\"grade_A\"] * 0 + \\\n",
    "    dummiedGradesDf[\"grade_B\"] * 2 + dummiedGradesDf[\"grade_C\"] * 3 + dummiedGradesDf[\"grade_D\"] * 4  + \\\n",
    "    dummiedGradesDf[\"grade_E\"] * 5 + dummiedGradesDf[\"grade_F\"] * 6 + dummiedGradesDf[\"grade_G\"] * 6\n",
    "dummiedGradesDf = dummiedGradesDf.drop(columns=[\"grade_A\", \"grade_B\", \"grade_C\", \"grade_D\", \"grade_E\", \"grade_F\", \"grade_G\"])"
   ]
  },
  {
   "cell_type": "code",
   "execution_count": 11,
   "metadata": {},
   "outputs": [],
   "source": [
    "typedDf = dummiedGradesDf"
   ]
  },
  {
   "cell_type": "code",
   "execution_count": 12,
   "metadata": {},
   "outputs": [
    {
     "name": "stderr",
     "output_type": "stream",
     "text": [
      "/anaconda3/lib/python3.7/site-packages/scipy/stats/stats.py:1713: FutureWarning: Using a non-tuple sequence for multidimensional indexing is deprecated; use `arr[tuple(seq)]` instead of `arr[seq]`. In the future this will be interpreted as an array index, `arr[np.array(seq)]`, which will result either in an error or a different result.\n",
      "  return np.add.reduce(sorted[indexer] * weights, axis=axis) / sumval\n"
     ]
    },
    {
     "data": {
      "text/plain": [
       "<seaborn.axisgrid.JointGrid at 0x1a5eed8eb8>"
      ]
     },
     "execution_count": 12,
     "metadata": {},
     "output_type": "execute_result"
    },
    {
     "data": {
      "image/png": "[encoded data removed]",
      "text/plain": [
       "<Figure size 576x576 with 3 Axes>"
      ]
     },
     "metadata": {
      "needs_background": "light"
     },
     "output_type": "display_data"
    }
   ],
   "source": [
    "import matplotlib.pyplot as plt\n",
    "sb.jointplot(x=\"funded_amnt\", y=\"int_rate\", data = typedDf, kind=\"hex\", height =8)\n",
    "\n",
    "#looks like there is some sort of upper bound on loan size at 35k - this could be due to lending club rules."
   ]
  },
  {
   "cell_type": "markdown",
   "metadata": {},
   "source": [
    "#### not surprising that annual income is highly skewed... lets reduce skew"
   ]
  },
  {
   "cell_type": "code",
   "execution_count": 13,
   "metadata": {},
   "outputs": [
    {
     "data": {
      "image/png": "[encoded data removed]",
      "text/plain": [
       "<Figure size 432x288 with 1 Axes>"
      ]
     },
     "metadata": {
      "needs_background": "light"
     },
     "output_type": "display_data"
    }
   ],
   "source": [
    "boxplot = typedDf.boxplot(column=['annual_inc'])"
   ]
  },
  {
   "cell_type": "code",
   "execution_count": 14,
   "metadata": {},
   "outputs": [
    {
     "name": "stderr",
     "output_type": "stream",
     "text": [
      "/anaconda3/lib/python3.7/site-packages/scipy/stats/stats.py:1713: FutureWarning: Using a non-tuple sequence for multidimensional indexing is deprecated; use `arr[tuple(seq)]` instead of `arr[seq]`. In the future this will be interpreted as an array index, `arr[np.array(seq)]`, which will result either in an error or a different result.\n",
      "  return np.add.reduce(sorted[indexer] * weights, axis=axis) / sumval\n"
     ]
    },
    {
     "data": {
      "text/plain": [
       "<matplotlib.axes._subplots.AxesSubplot at 0x1a5e639f60>"
      ]
     },
     "execution_count": 14,
     "metadata": {},
     "output_type": "execute_result"
    },
    {
     "data": {
      "image/png": "[encoded data removed]",
      "text/plain": [
       "<Figure size 432x288 with 1 Axes>"
      ]
     },
     "metadata": {
      "needs_background": "light"
     },
     "output_type": "display_data"
    }
   ],
   "source": [
    "incomeFilter = typedDf[typedDf[\"annual_inc\"] < 300000]\n",
    "sb.distplot(incomeFilter[\"annual_inc\"].dropna())"
   ]
  },
  {
   "cell_type": "code",
   "execution_count": 82,
   "metadata": {},
   "outputs": [
    {
     "name": "stderr",
     "output_type": "stream",
     "text": [
      "/anaconda3/lib/python3.7/site-packages/scipy/stats/stats.py:1713: FutureWarning: Using a non-tuple sequence for multidimensional indexing is deprecated; use `arr[tuple(seq)]` instead of `arr[seq]`. In the future this will be interpreted as an array index, `arr[np.array(seq)]`, which will result either in an error or a different result.\n",
      "  return np.add.reduce(sorted[indexer] * weights, axis=axis) / sumval\n"
     ]
    },
    {
     "data": {
      "text/plain": [
       "<seaborn.axisgrid.JointGrid at 0x1a5e6a2630>"
      ]
     },
     "execution_count": 82,
     "metadata": {},
     "output_type": "execute_result"
    },
    {
     "data": {
      "image/png": "[encoded data removed]",
      "text/plain": [
       "<Figure size 576x576 with 3 Axes>"
      ]
     },
     "metadata": {
      "needs_background": "light"
     },
     "output_type": "display_data"
    }
   ],
   "source": [
    "import matplotlib.pyplot as plt\n",
    "sb.jointplot(x=\"annual_inc\", y=\"funded_amnt\", data = incomeFilter, kind=\"hex\", height = 8)\n",
    "\n",
    "#notice tendency of higher incomes to take larger loans as evidenced by emptiness of top left quartile."
   ]
  },
  {
   "cell_type": "markdown",
   "metadata": {},
   "source": [
    "### Look at Correlations"
   ]
  },
  {
   "cell_type": "code",
   "execution_count": 16,
   "metadata": {},
   "outputs": [
    {
     "data": {
      "text/plain": [
       "<matplotlib.axes._subplots.AxesSubplot at 0x1a5de38240>"
      ]
     },
     "execution_count": 16,
     "metadata": {},
     "output_type": "execute_result"
    },
    {
     "data": {
      "image/png": "[encoded data removed]",
      "text/plain": [
       "<Figure size 432x288 with 2 Axes>"
      ]
     },
     "metadata": {
      "needs_background": "light"
     },
     "output_type": "display_data"
    }
   ],
   "source": [
    "sb.heatmap(typedDf[[\"loan_amnt\", \"funded_amnt\",\n",
    "                    \"int_rate\", \"grade\", \"annual_inc\", \"dti\",\n",
    "                    \"revol_bal\", \"total_pymnt\", \"loan_status\"]].corr())"
   ]
  },
  {
   "cell_type": "markdown",
   "metadata": {},
   "source": [
    "funded amt and loan amount are highly correlated, this is trivial\n",
    "\n",
    "interest rate and grade highly correlated (as seen above in box/whisker)"
   ]
  },
  {
   "cell_type": "markdown",
   "metadata": {},
   "source": [
    "### look at distributions"
   ]
  },
  {
   "cell_type": "code",
   "execution_count": 78,
   "metadata": {},
   "outputs": [
    {
     "data": {
      "text/html": [
       "<div>\n",
       "<style scoped>\n",
       "    .dataframe tbody tr th:only-of-type {\n",
       "        vertical-align: middle;\n",
       "    }\n",
       "\n",
       "    .dataframe tbody tr th {\n",
       "        vertical-align: top;\n",
       "    }\n",
       "\n",
       "    .dataframe thead th {\n",
       "        text-align: right;\n",
       "    }\n",
       "</style>\n",
       "<table border=\"1\" class=\"dataframe\">\n",
       "  <thead>\n",
       "    <tr style=\"text-align: right;\">\n",
       "      <th></th>\n",
       "      <th>60 months</th>\n",
       "      <th>id</th>\n",
       "      <th>loan_amnt</th>\n",
       "      <th>funded_amnt</th>\n",
       "      <th>funded_amnt_inv</th>\n",
       "      <th>int_rate</th>\n",
       "      <th>installment</th>\n",
       "      <th>annual_inc</th>\n",
       "      <th>dti</th>\n",
       "      <th>delinq_2yrs</th>\n",
       "      <th>...</th>\n",
       "      <th>il_util</th>\n",
       "      <th>open_rv_12m</th>\n",
       "      <th>open_rv_24m</th>\n",
       "      <th>max_bal_bc</th>\n",
       "      <th>all_util</th>\n",
       "      <th>total_rev_hi_lim</th>\n",
       "      <th>inq_fi</th>\n",
       "      <th>total_cu_tl</th>\n",
       "      <th>inq_last_12m</th>\n",
       "      <th>grade</th>\n",
       "    </tr>\n",
       "  </thead>\n",
       "  <tbody>\n",
       "    <tr>\n",
       "      <th>count</th>\n",
       "      <td>887379.000000</td>\n",
       "      <td>8.873790e+05</td>\n",
       "      <td>887379.000000</td>\n",
       "      <td>887379.000000</td>\n",
       "      <td>887379.000000</td>\n",
       "      <td>887379.000000</td>\n",
       "      <td>887379.000000</td>\n",
       "      <td>8.873750e+05</td>\n",
       "      <td>887379.000000</td>\n",
       "      <td>887350.000000</td>\n",
       "      <td>...</td>\n",
       "      <td>18617.000000</td>\n",
       "      <td>21372.000000</td>\n",
       "      <td>21372.000000</td>\n",
       "      <td>21372.000000</td>\n",
       "      <td>21372.000000</td>\n",
       "      <td>8.171030e+05</td>\n",
       "      <td>21372.000000</td>\n",
       "      <td>21372.000000</td>\n",
       "      <td>21372.000000</td>\n",
       "      <td>887379.000000</td>\n",
       "    </tr>\n",
       "    <tr>\n",
       "      <th>mean</th>\n",
       "      <td>0.300045</td>\n",
       "      <td>3.246513e+07</td>\n",
       "      <td>14755.264605</td>\n",
       "      <td>14741.877625</td>\n",
       "      <td>14702.464383</td>\n",
       "      <td>13.246740</td>\n",
       "      <td>436.717127</td>\n",
       "      <td>7.502759e+04</td>\n",
       "      <td>18.157039</td>\n",
       "      <td>0.314442</td>\n",
       "      <td>...</td>\n",
       "      <td>71.535317</td>\n",
       "      <td>1.389060</td>\n",
       "      <td>2.975482</td>\n",
       "      <td>5887.979740</td>\n",
       "      <td>60.831939</td>\n",
       "      <td>3.206862e+04</td>\n",
       "      <td>0.943945</td>\n",
       "      <td>1.537058</td>\n",
       "      <td>1.977307</td>\n",
       "      <td>2.625206</td>\n",
       "    </tr>\n",
       "    <tr>\n",
       "      <th>std</th>\n",
       "      <td>0.458278</td>\n",
       "      <td>2.282734e+07</td>\n",
       "      <td>8435.455601</td>\n",
       "      <td>8429.897657</td>\n",
       "      <td>8442.106732</td>\n",
       "      <td>4.381867</td>\n",
       "      <td>244.186593</td>\n",
       "      <td>6.469830e+04</td>\n",
       "      <td>17.190626</td>\n",
       "      <td>0.862244</td>\n",
       "      <td>...</td>\n",
       "      <td>23.022862</td>\n",
       "      <td>1.520129</td>\n",
       "      <td>2.631886</td>\n",
       "      <td>5284.701239</td>\n",
       "      <td>20.013254</td>\n",
       "      <td>3.749826e+04</td>\n",
       "      <td>1.446872</td>\n",
       "      <td>2.723339</td>\n",
       "      <td>2.874067</td>\n",
       "      <td>1.553977</td>\n",
       "    </tr>\n",
       "    <tr>\n",
       "      <th>min</th>\n",
       "      <td>0.000000</td>\n",
       "      <td>5.473400e+04</td>\n",
       "      <td>500.000000</td>\n",
       "      <td>500.000000</td>\n",
       "      <td>0.000000</td>\n",
       "      <td>5.320000</td>\n",
       "      <td>15.670000</td>\n",
       "      <td>0.000000e+00</td>\n",
       "      <td>0.000000</td>\n",
       "      <td>0.000000</td>\n",
       "      <td>...</td>\n",
       "      <td>0.000000</td>\n",
       "      <td>0.000000</td>\n",
       "      <td>0.000000</td>\n",
       "      <td>0.000000</td>\n",
       "      <td>0.000000</td>\n",
       "      <td>0.000000e+00</td>\n",
       "      <td>0.000000</td>\n",
       "      <td>0.000000</td>\n",
       "      <td>-4.000000</td>\n",
       "      <td>0.000000</td>\n",
       "    </tr>\n",
       "    <tr>\n",
       "      <th>25%</th>\n",
       "      <td>0.000000</td>\n",
       "      <td>9.206643e+06</td>\n",
       "      <td>8000.000000</td>\n",
       "      <td>8000.000000</td>\n",
       "      <td>8000.000000</td>\n",
       "      <td>9.990000</td>\n",
       "      <td>260.705000</td>\n",
       "      <td>4.500000e+04</td>\n",
       "      <td>11.910000</td>\n",
       "      <td>0.000000</td>\n",
       "      <td>...</td>\n",
       "      <td>58.600000</td>\n",
       "      <td>0.000000</td>\n",
       "      <td>1.000000</td>\n",
       "      <td>2411.000000</td>\n",
       "      <td>47.700000</td>\n",
       "      <td>1.390000e+04</td>\n",
       "      <td>0.000000</td>\n",
       "      <td>0.000000</td>\n",
       "      <td>0.000000</td>\n",
       "      <td>2.000000</td>\n",
       "    </tr>\n",
       "    <tr>\n",
       "      <th>50%</th>\n",
       "      <td>0.000000</td>\n",
       "      <td>3.443327e+07</td>\n",
       "      <td>13000.000000</td>\n",
       "      <td>13000.000000</td>\n",
       "      <td>13000.000000</td>\n",
       "      <td>12.990000</td>\n",
       "      <td>382.550000</td>\n",
       "      <td>6.500000e+04</td>\n",
       "      <td>17.650000</td>\n",
       "      <td>0.000000</td>\n",
       "      <td>...</td>\n",
       "      <td>74.900000</td>\n",
       "      <td>1.000000</td>\n",
       "      <td>2.000000</td>\n",
       "      <td>4483.000000</td>\n",
       "      <td>61.900000</td>\n",
       "      <td>2.370000e+04</td>\n",
       "      <td>0.000000</td>\n",
       "      <td>0.000000</td>\n",
       "      <td>2.000000</td>\n",
       "      <td>3.000000</td>\n",
       "    </tr>\n",
       "    <tr>\n",
       "      <th>75%</th>\n",
       "      <td>1.000000</td>\n",
       "      <td>5.490814e+07</td>\n",
       "      <td>20000.000000</td>\n",
       "      <td>20000.000000</td>\n",
       "      <td>20000.000000</td>\n",
       "      <td>16.200000</td>\n",
       "      <td>572.600000</td>\n",
       "      <td>9.000000e+04</td>\n",
       "      <td>23.950000</td>\n",
       "      <td>0.000000</td>\n",
       "      <td>...</td>\n",
       "      <td>87.600000</td>\n",
       "      <td>2.000000</td>\n",
       "      <td>4.000000</td>\n",
       "      <td>7771.500000</td>\n",
       "      <td>75.200000</td>\n",
       "      <td>3.980000e+04</td>\n",
       "      <td>1.000000</td>\n",
       "      <td>2.000000</td>\n",
       "      <td>3.000000</td>\n",
       "      <td>4.000000</td>\n",
       "    </tr>\n",
       "    <tr>\n",
       "      <th>max</th>\n",
       "      <td>1.000000</td>\n",
       "      <td>6.861706e+07</td>\n",
       "      <td>35000.000000</td>\n",
       "      <td>35000.000000</td>\n",
       "      <td>35000.000000</td>\n",
       "      <td>28.990000</td>\n",
       "      <td>1445.460000</td>\n",
       "      <td>9.500000e+06</td>\n",
       "      <td>9999.000000</td>\n",
       "      <td>39.000000</td>\n",
       "      <td>...</td>\n",
       "      <td>223.300000</td>\n",
       "      <td>22.000000</td>\n",
       "      <td>43.000000</td>\n",
       "      <td>127305.000000</td>\n",
       "      <td>151.400000</td>\n",
       "      <td>9.999999e+06</td>\n",
       "      <td>17.000000</td>\n",
       "      <td>35.000000</td>\n",
       "      <td>32.000000</td>\n",
       "      <td>6.000000</td>\n",
       "    </tr>\n",
       "  </tbody>\n",
       "</table>\n",
       "<p>8 rows × 52 columns</p>\n",
       "</div>"
      ],
      "text/plain": [
       "           60 months            id      loan_amnt    funded_amnt  \\\n",
       "count  887379.000000  8.873790e+05  887379.000000  887379.000000   \n",
       "mean        0.300045  3.246513e+07   14755.264605   14741.877625   \n",
       "std         0.458278  2.282734e+07    8435.455601    8429.897657   \n",
       "min         0.000000  5.473400e+04     500.000000     500.000000   \n",
       "25%         0.000000  9.206643e+06    8000.000000    8000.000000   \n",
       "50%         0.000000  3.443327e+07   13000.000000   13000.000000   \n",
       "75%         1.000000  5.490814e+07   20000.000000   20000.000000   \n",
       "max         1.000000  6.861706e+07   35000.000000   35000.000000   \n",
       "\n",
       "       funded_amnt_inv       int_rate    installment    annual_inc  \\\n",
       "count    887379.000000  887379.000000  887379.000000  8.873750e+05   \n",
       "mean      14702.464383      13.246740     436.717127  7.502759e+04   \n",
       "std        8442.106732       4.381867     244.186593  6.469830e+04   \n",
       "min           0.000000       5.320000      15.670000  0.000000e+00   \n",
       "25%        8000.000000       9.990000     260.705000  4.500000e+04   \n",
       "50%       13000.000000      12.990000     382.550000  6.500000e+04   \n",
       "75%       20000.000000      16.200000     572.600000  9.000000e+04   \n",
       "max       35000.000000      28.990000    1445.460000  9.500000e+06   \n",
       "\n",
       "                 dti    delinq_2yrs      ...             il_util  \\\n",
       "count  887379.000000  887350.000000      ...        18617.000000   \n",
       "mean       18.157039       0.314442      ...           71.535317   \n",
       "std        17.190626       0.862244      ...           23.022862   \n",
       "min         0.000000       0.000000      ...            0.000000   \n",
       "25%        11.910000       0.000000      ...           58.600000   \n",
       "50%        17.650000       0.000000      ...           74.900000   \n",
       "75%        23.950000       0.000000      ...           87.600000   \n",
       "max      9999.000000      39.000000      ...          223.300000   \n",
       "\n",
       "        open_rv_12m   open_rv_24m     max_bal_bc      all_util  \\\n",
       "count  21372.000000  21372.000000   21372.000000  21372.000000   \n",
       "mean       1.389060      2.975482    5887.979740     60.831939   \n",
       "std        1.520129      2.631886    5284.701239     20.013254   \n",
       "min        0.000000      0.000000       0.000000      0.000000   \n",
       "25%        0.000000      1.000000    2411.000000     47.700000   \n",
       "50%        1.000000      2.000000    4483.000000     61.900000   \n",
       "75%        2.000000      4.000000    7771.500000     75.200000   \n",
       "max       22.000000     43.000000  127305.000000    151.400000   \n",
       "\n",
       "       total_rev_hi_lim        inq_fi   total_cu_tl  inq_last_12m  \\\n",
       "count      8.171030e+05  21372.000000  21372.000000  21372.000000   \n",
       "mean       3.206862e+04      0.943945      1.537058      1.977307   \n",
       "std        3.749826e+04      1.446872      2.723339      2.874067   \n",
       "min        0.000000e+00      0.000000      0.000000     -4.000000   \n",
       "25%        1.390000e+04      0.000000      0.000000      0.000000   \n",
       "50%        2.370000e+04      0.000000      0.000000      2.000000   \n",
       "75%        3.980000e+04      1.000000      2.000000      3.000000   \n",
       "max        9.999999e+06     17.000000     35.000000     32.000000   \n",
       "\n",
       "               grade  \n",
       "count  887379.000000  \n",
       "mean        2.625206  \n",
       "std         1.553977  \n",
       "min         0.000000  \n",
       "25%         2.000000  \n",
       "50%         3.000000  \n",
       "75%         4.000000  \n",
       "max         6.000000  \n",
       "\n",
       "[8 rows x 52 columns]"
      ]
     },
     "execution_count": 78,
     "metadata": {},
     "output_type": "execute_result"
    }
   ],
   "source": [
    "### everything is skewed right, except grade which is perfectly balanced\n",
    "### DTI seems to have an outlier, or is 9999 a null placeholder ?\n",
    "normalized = typedDf.copy(deep = True)\n",
    "normalized.drop(columns = [\"member_id\"]).describe()"
   ]
  },
  {
   "cell_type": "code",
   "execution_count": 18,
   "metadata": {},
   "outputs": [
    {
     "data": {
      "image/png": "[encoded data removed]",
      "text/plain": [
       "<Figure size 432x288 with 1 Axes>"
      ]
     },
     "metadata": {
      "needs_background": "light"
     },
     "output_type": "display_data"
    }
   ],
   "source": [
    "#looks like dti= 9999 is a null placeholder because there are few values between ~ 1000 and that 9999 value\n",
    "dti = typedDf[[\"dti\"]]\n",
    "boxplot = dti.boxplot(column=['dti'])"
   ]
  },
  {
   "cell_type": "code",
   "execution_count": 19,
   "metadata": {},
   "outputs": [
    {
     "data": {
      "text/plain": [
       "<matplotlib.axes._subplots.AxesSubplot at 0x1a5db00630>"
      ]
     },
     "execution_count": 19,
     "metadata": {},
     "output_type": "execute_result"
    },
    {
     "data": {
      "image/png": "[encoded data removed]",
      "text/plain": [
       "<Figure size 432x288 with 1 Axes>"
      ]
     },
     "metadata": {
      "needs_background": "light"
     },
     "output_type": "display_data"
    }
   ],
   "source": [
    "#looks much better if we remove 9999 - still heavily skewed though.\n",
    "dti[dti[\"dti\"] < 900 ].boxplot(column=['dti'])"
   ]
  },
  {
   "cell_type": "code",
   "execution_count": 20,
   "metadata": {},
   "outputs": [
    {
     "data": {
      "text/plain": [
       "<matplotlib.axes._subplots.AxesSubplot at 0x1a5f097f98>"
      ]
     },
     "execution_count": 20,
     "metadata": {},
     "output_type": "execute_result"
    },
    {
     "data": {
      "image/png": "[encoded data removed]",
      "text/plain": [
       "<Figure size 432x288 with 1 Axes>"
      ]
     },
     "metadata": {
      "needs_background": "light"
     },
     "output_type": "display_data"
    }
   ],
   "source": [
    "# much nicer if we remove outliers ( > 300)\n",
    "dti[dti[\"dti\"] < 300 ].boxplot(column=['dti'])"
   ]
  },
  {
   "cell_type": "code",
   "execution_count": 21,
   "metadata": {},
   "outputs": [],
   "source": [
    "def normalize(df, col):\n",
    "    ser = df[[col]]\n",
    "    normalized_ser=(ser-ser.min())/(ser.max()-ser.min())\n",
    "    df.drop(columns=[col])\n",
    "    df[col] = normalized_ser\n",
    "    return df"
   ]
  },
  {
   "cell_type": "code",
   "execution_count": 22,
   "metadata": {},
   "outputs": [
    {
     "data": {
      "text/plain": [
       "<matplotlib.axes._subplots.AxesSubplot at 0x1a5d8bed30>"
      ]
     },
     "execution_count": 22,
     "metadata": {},
     "output_type": "execute_result"
    },
    {
     "data": {
      "image/png": "[encoded data removed]",
      "text/plain": [
       "<Figure size 936x432 with 1 Axes>"
      ]
     },
     "metadata": {
      "needs_background": "light"
     },
     "output_type": "display_data"
    }
   ],
   "source": [
    "normalizeDf = typedDf.copy(deep = True)\n",
    "\n",
    "normalize(normalizeDf, \"loan_amnt\")\n",
    "normalize(normalizeDf, \"funded_amnt\")\n",
    "normalize(normalizeDf, \"int_rate\")\n",
    "normalize(normalizeDf, \"annual_inc\")\n",
    "normalize(normalizeDf, \"dti\")\n",
    "normalize(normalizeDf, \"revol_bal\")\n",
    "normalize(normalizeDf, \"total_pymnt\")\n",
    "normalize(normalizeDf, \"grade\")\n",
    "normalizeDf.boxplot(column=[\"loan_amnt\", \"funded_amnt\", \"int_rate\", \"annual_inc\",\n",
    "                                  \"dti\", \"revol_bal\", \"total_pymnt\", \"grade\"], figsize=(13,6))"
   ]
  },
  {
   "cell_type": "code",
   "execution_count": 23,
   "metadata": {},
   "outputs": [],
   "source": [
    "del normalized\n",
    "del normalizeDf"
   ]
  },
  {
   "cell_type": "code",
   "execution_count": 24,
   "metadata": {},
   "outputs": [
    {
     "data": {
      "text/plain": [
       "loan_amnt        0.681683\n",
       "funded_amnt      0.683745\n",
       "int_rate         0.429481\n",
       "annual_inc      44.478487\n",
       "dti            441.486775\n",
       "revol_bal       15.949302\n",
       "total_pymnt      1.788894\n",
       "grade           -0.097367\n",
       "dtype: float64"
      ]
     },
     "execution_count": 24,
     "metadata": {},
     "output_type": "execute_result"
    }
   ],
   "source": [
    "#Confirms suspicions of bad skew.\n",
    "# annual income being the worst offender. nothing to do now other than just keep note for later stages\n",
    "typedDf[[\"loan_amnt\", \"funded_amnt\", \"int_rate\", \"annual_inc\",\n",
    "          \"dti\", \"revol_bal\", \"total_pymnt\", \"grade\"]].skew(axis = 0)"
   ]
  },
  {
   "cell_type": "code",
   "execution_count": 25,
   "metadata": {},
   "outputs": [
    {
     "data": {
      "image/png": "[encoded data removed]",
      "text/plain": [
       "<Figure size 432x288 with 1 Axes>"
      ]
     },
     "metadata": {
      "needs_background": "light"
     },
     "output_type": "display_data"
    }
   ],
   "source": [
    "hist = typedDf[\" 60 months\"].hist(bins=2)\n",
    "## most loans are 36 month"
   ]
  },
  {
   "cell_type": "code",
   "execution_count": 26,
   "metadata": {},
   "outputs": [
    {
     "data": {
      "text/plain": [
       "<seaborn.axisgrid.FacetGrid at 0x1a5d52cef0>"
      ]
     },
     "execution_count": 26,
     "metadata": {},
     "output_type": "execute_result"
    },
    {
     "data": {
      "image/png": "[encoded data removed]",
      "text/plain": [
       "<Figure size 360x360 with 1 Axes>"
      ]
     },
     "metadata": {
      "needs_background": "light"
     },
     "output_type": "display_data"
    }
   ],
   "source": [
    "revolveStudy = typedDf.copy(deep = True)\n",
    "revolveStudy[\"revol_bal\"] = pd.cut(typedDf[\"revol_bal\"], bins = [-2, 10000, 25000, 5000000], labels = [\"low\", \"medium\", \"high\"])\n",
    "sb.catplot(x=\"revol_bal\", kind=\"count\", data=revolveStudy)"
   ]
  },
  {
   "cell_type": "code",
   "execution_count": 27,
   "metadata": {},
   "outputs": [
    {
     "data": {
      "text/plain": [
       "<seaborn.axisgrid.FacetGrid at 0x1a5d5ce550>"
      ]
     },
     "execution_count": 27,
     "metadata": {},
     "output_type": "execute_result"
    },
    {
     "data": {
      "image/png": "[encoded data removed]",
      "text/plain": [
       "<Figure size 360x360 with 1 Axes>"
      ]
     },
     "metadata": {
      "needs_background": "light"
     },
     "output_type": "display_data"
    }
   ],
   "source": [
    "sb.catplot(x=\"home_ownership\", kind=\"count\", data=typedDf)"
   ]
  },
  {
   "cell_type": "markdown",
   "metadata": {},
   "source": [
    "# Part Two - Business Analysis\n",
    "#### this did not say to balance weight, but this should be balance weighted"
   ]
  },
  {
   "cell_type": "code",
   "execution_count": 28,
   "metadata": {},
   "outputs": [],
   "source": [
    "##only look at 36 month loans\n",
    "shortTerm = typedDf[typedDf[\" 60 months\"] == 0]"
   ]
  },
  {
   "cell_type": "code",
   "execution_count": 29,
   "metadata": {},
   "outputs": [
    {
     "data": {
      "text/plain": [
       "Current                                                402848\n",
       "Fully Paid                                             167575\n",
       "Charged Off                                             29083\n",
       "Late (31-120 days)                                       7026\n",
       "Issued                                                   5982\n",
       "In Grace Period                                          3975\n",
       "Does not meet the credit policy. Status:Fully Paid       1789\n",
       "Late (16-30 days)                                        1483\n",
       "Default                                                   715\n",
       "Does not meet the credit policy. Status:Charged Off       649\n",
       "Name: loan_status, dtype: int64"
      ]
     },
     "execution_count": 29,
     "metadata": {},
     "output_type": "execute_result"
    }
   ],
   "source": [
    "shortTerm.loan_status.value_counts()"
   ]
  },
  {
   "cell_type": "code",
   "execution_count": 30,
   "metadata": {},
   "outputs": [],
   "source": [
    "## only look at loans that are no longer alive \n",
    "# assuming that if they are done paying they are in one of three categories below\n",
    "# not sure what: \"Does not meet the credit policy. Status:Charged Off\", \"Does not meet the credit policy. Status:Charged Off\"\n",
    "shortTerm = shortTerm[(shortTerm[\"loan_status\"] == \"Fully Paid\") | (shortTerm[\"loan_status\"] == \"Charged Off\") | \n",
    "                    (shortTerm[\"loan_status\"] == \"Default\")]"
   ]
  },
  {
   "cell_type": "code",
   "execution_count": 31,
   "metadata": {},
   "outputs": [
    {
     "data": {
      "text/html": [
       "<div>\n",
       "<style scoped>\n",
       "    .dataframe tbody tr th:only-of-type {\n",
       "        vertical-align: middle;\n",
       "    }\n",
       "\n",
       "    .dataframe tbody tr th {\n",
       "        vertical-align: top;\n",
       "    }\n",
       "\n",
       "    .dataframe thead th {\n",
       "        text-align: right;\n",
       "    }\n",
       "</style>\n",
       "<table border=\"1\" class=\"dataframe\">\n",
       "  <thead>\n",
       "    <tr style=\"text-align: right;\">\n",
       "      <th></th>\n",
       "      <th>60 months</th>\n",
       "      <th>id</th>\n",
       "      <th>member_id</th>\n",
       "      <th>loan_amnt</th>\n",
       "      <th>funded_amnt</th>\n",
       "      <th>funded_amnt_inv</th>\n",
       "      <th>int_rate</th>\n",
       "      <th>installment</th>\n",
       "      <th>sub_grade</th>\n",
       "      <th>emp_title</th>\n",
       "      <th>...</th>\n",
       "      <th>open_rv_12m</th>\n",
       "      <th>open_rv_24m</th>\n",
       "      <th>max_bal_bc</th>\n",
       "      <th>all_util</th>\n",
       "      <th>total_rev_hi_lim</th>\n",
       "      <th>inq_fi</th>\n",
       "      <th>total_cu_tl</th>\n",
       "      <th>inq_last_12m</th>\n",
       "      <th>origYear</th>\n",
       "      <th>grade</th>\n",
       "    </tr>\n",
       "  </thead>\n",
       "  <tbody>\n",
       "    <tr>\n",
       "      <th>0</th>\n",
       "      <td>0</td>\n",
       "      <td>1077501</td>\n",
       "      <td>1296599</td>\n",
       "      <td>5000.0</td>\n",
       "      <td>5000.0</td>\n",
       "      <td>4975.0</td>\n",
       "      <td>10.65</td>\n",
       "      <td>162.87</td>\n",
       "      <td>B2</td>\n",
       "      <td>NaN</td>\n",
       "      <td>...</td>\n",
       "      <td>NaN</td>\n",
       "      <td>NaN</td>\n",
       "      <td>NaN</td>\n",
       "      <td>NaN</td>\n",
       "      <td>NaN</td>\n",
       "      <td>NaN</td>\n",
       "      <td>NaN</td>\n",
       "      <td>NaN</td>\n",
       "      <td>2011</td>\n",
       "      <td>2</td>\n",
       "    </tr>\n",
       "    <tr>\n",
       "      <th>2</th>\n",
       "      <td>0</td>\n",
       "      <td>1077175</td>\n",
       "      <td>1313524</td>\n",
       "      <td>2400.0</td>\n",
       "      <td>2400.0</td>\n",
       "      <td>2400.0</td>\n",
       "      <td>15.96</td>\n",
       "      <td>84.33</td>\n",
       "      <td>C5</td>\n",
       "      <td>NaN</td>\n",
       "      <td>...</td>\n",
       "      <td>NaN</td>\n",
       "      <td>NaN</td>\n",
       "      <td>NaN</td>\n",
       "      <td>NaN</td>\n",
       "      <td>NaN</td>\n",
       "      <td>NaN</td>\n",
       "      <td>NaN</td>\n",
       "      <td>NaN</td>\n",
       "      <td>2011</td>\n",
       "      <td>3</td>\n",
       "    </tr>\n",
       "    <tr>\n",
       "      <th>3</th>\n",
       "      <td>0</td>\n",
       "      <td>1076863</td>\n",
       "      <td>1277178</td>\n",
       "      <td>10000.0</td>\n",
       "      <td>10000.0</td>\n",
       "      <td>10000.0</td>\n",
       "      <td>13.49</td>\n",
       "      <td>339.31</td>\n",
       "      <td>C1</td>\n",
       "      <td>AIR RESOURCES BOARD</td>\n",
       "      <td>...</td>\n",
       "      <td>NaN</td>\n",
       "      <td>NaN</td>\n",
       "      <td>NaN</td>\n",
       "      <td>NaN</td>\n",
       "      <td>NaN</td>\n",
       "      <td>NaN</td>\n",
       "      <td>NaN</td>\n",
       "      <td>NaN</td>\n",
       "      <td>2011</td>\n",
       "      <td>3</td>\n",
       "    </tr>\n",
       "    <tr>\n",
       "      <th>5</th>\n",
       "      <td>0</td>\n",
       "      <td>1075269</td>\n",
       "      <td>1311441</td>\n",
       "      <td>5000.0</td>\n",
       "      <td>5000.0</td>\n",
       "      <td>5000.0</td>\n",
       "      <td>7.90</td>\n",
       "      <td>156.46</td>\n",
       "      <td>A4</td>\n",
       "      <td>Veolia Transportaton</td>\n",
       "      <td>...</td>\n",
       "      <td>NaN</td>\n",
       "      <td>NaN</td>\n",
       "      <td>NaN</td>\n",
       "      <td>NaN</td>\n",
       "      <td>NaN</td>\n",
       "      <td>NaN</td>\n",
       "      <td>NaN</td>\n",
       "      <td>NaN</td>\n",
       "      <td>2011</td>\n",
       "      <td>0</td>\n",
       "    </tr>\n",
       "    <tr>\n",
       "      <th>7</th>\n",
       "      <td>0</td>\n",
       "      <td>1072053</td>\n",
       "      <td>1288686</td>\n",
       "      <td>3000.0</td>\n",
       "      <td>3000.0</td>\n",
       "      <td>3000.0</td>\n",
       "      <td>18.64</td>\n",
       "      <td>109.43</td>\n",
       "      <td>E1</td>\n",
       "      <td>MKC Accounting</td>\n",
       "      <td>...</td>\n",
       "      <td>NaN</td>\n",
       "      <td>NaN</td>\n",
       "      <td>NaN</td>\n",
       "      <td>NaN</td>\n",
       "      <td>NaN</td>\n",
       "      <td>NaN</td>\n",
       "      <td>NaN</td>\n",
       "      <td>NaN</td>\n",
       "      <td>2011</td>\n",
       "      <td>5</td>\n",
       "    </tr>\n",
       "  </tbody>\n",
       "</table>\n",
       "<p>5 rows × 74 columns</p>\n",
       "</div>"
      ],
      "text/plain": [
       "    60 months       id  member_id  loan_amnt  funded_amnt  funded_amnt_inv  \\\n",
       "0           0  1077501    1296599     5000.0       5000.0           4975.0   \n",
       "2           0  1077175    1313524     2400.0       2400.0           2400.0   \n",
       "3           0  1076863    1277178    10000.0      10000.0          10000.0   \n",
       "5           0  1075269    1311441     5000.0       5000.0           5000.0   \n",
       "7           0  1072053    1288686     3000.0       3000.0           3000.0   \n",
       "\n",
       "   int_rate  installment sub_grade             emp_title  ...  open_rv_12m  \\\n",
       "0     10.65       162.87        B2                   NaN  ...          NaN   \n",
       "2     15.96        84.33        C5                   NaN  ...          NaN   \n",
       "3     13.49       339.31        C1   AIR RESOURCES BOARD  ...          NaN   \n",
       "5      7.90       156.46        A4  Veolia Transportaton  ...          NaN   \n",
       "7     18.64       109.43        E1       MKC Accounting   ...          NaN   \n",
       "\n",
       "  open_rv_24m  max_bal_bc all_util total_rev_hi_lim inq_fi total_cu_tl  \\\n",
       "0         NaN         NaN      NaN              NaN    NaN         NaN   \n",
       "2         NaN         NaN      NaN              NaN    NaN         NaN   \n",
       "3         NaN         NaN      NaN              NaN    NaN         NaN   \n",
       "5         NaN         NaN      NaN              NaN    NaN         NaN   \n",
       "7         NaN         NaN      NaN              NaN    NaN         NaN   \n",
       "\n",
       "  inq_last_12m origYear grade  \n",
       "0          NaN     2011     2  \n",
       "2          NaN     2011     3  \n",
       "3          NaN     2011     3  \n",
       "5          NaN     2011     0  \n",
       "7          NaN     2011     5  \n",
       "\n",
       "[5 rows x 74 columns]"
      ]
     },
     "execution_count": 31,
     "metadata": {},
     "output_type": "execute_result"
    }
   ],
   "source": [
    "shortTerm.head()"
   ]
  },
  {
   "cell_type": "markdown",
   "metadata": {},
   "source": [
    "#### Pct loans fully paid"
   ]
  },
  {
   "cell_type": "code",
   "execution_count": 32,
   "metadata": {},
   "outputs": [
    {
     "name": "stdout",
     "output_type": "stream",
     "text": [
      "there are 167575 loans fully paid, which represents 0.849 loans\n"
     ]
    }
   ],
   "source": [
    "relFreqs = shortTerm[\"loan_status\"].value_counts() / shortTerm[\"loan_status\"].dropna().size\n",
    "counts = shortTerm[\"loan_status\"].value_counts()\n",
    "print(\"there are {} loans fully paid, which represents {} loans\".format(counts[0].round(4), relFreqs[0].round(4)))"
   ]
  },
  {
   "cell_type": "code",
   "execution_count": 33,
   "metadata": {},
   "outputs": [],
   "source": [
    "resultDf = pd.get_dummies(shortTerm[\"loan_status\"])"
   ]
  },
  {
   "cell_type": "code",
   "execution_count": 34,
   "metadata": {},
   "outputs": [],
   "source": [
    "weightedPaidOff = (resultDf[[\"Fully Paid\"]].astype(float).values *  shortTerm[[\"loan_amnt\"]].astype(float).values).sum()"
   ]
  },
  {
   "cell_type": "code",
   "execution_count": 35,
   "metadata": {},
   "outputs": [],
   "source": [
    "wavgLoanPaidOff = weightedPaidOff / shortTerm[[\"loan_amnt\"]].astype(float).values.sum()"
   ]
  },
  {
   "cell_type": "code",
   "execution_count": 36,
   "metadata": {},
   "outputs": [
    {
     "name": "stdout",
     "output_type": "stream",
     "text": [
      "The balance weighted avg of loans that paid off is 0.8504, \n",
      "as this is slightly larger than the non-weighted pct of loans, we conclude the \n",
      "loans that pay off fully are higher balance than average\n"
     ]
    }
   ],
   "source": [
    "print(\"\"\"The balance weighted avg of loans that paid off is {}, \n",
    "as this is slightly larger than the non-weighted pct of loans, we conclude the \n",
    "loans that pay off fully are higher balance than average\"\"\".format(wavgLoanPaidOff.round(4)))"
   ]
  },
  {
   "cell_type": "markdown",
   "metadata": {},
   "source": [
    "#### highest rates of default"
   ]
  },
  {
   "cell_type": "code",
   "execution_count": 37,
   "metadata": {},
   "outputs": [],
   "source": [
    "defaultDf = shortTerm[[\"origYear\", \"grade\", \"loan_status\", \"loan_amnt\"]]"
   ]
  },
  {
   "cell_type": "code",
   "execution_count": 38,
   "metadata": {},
   "outputs": [
    {
     "name": "stderr",
     "output_type": "stream",
     "text": [
      "/anaconda3/lib/python3.7/site-packages/ipykernel_launcher.py:2: SettingWithCopyWarning: \n",
      "A value is trying to be set on a copy of a slice from a DataFrame.\n",
      "Try using .loc[row_indexer,col_indexer] = value instead\n",
      "\n",
      "See the caveats in the documentation: http://pandas.pydata.org/pandas-docs/stable/indexing.html#indexing-view-versus-copy\n",
      "  \n"
     ]
    }
   ],
   "source": [
    "statusDummies = pd.get_dummies(defaultDf[\"loan_status\"])\n",
    "defaultDf[\"defaulted\"] = (statusDummies[[\"Fully Paid\"]] * - 1) + 1"
   ]
  },
  {
   "cell_type": "code",
   "execution_count": 39,
   "metadata": {},
   "outputs": [
    {
     "name": "stdout",
     "output_type": "stream",
     "text": [
      "                loan_amnt  defaulted\n",
      "origYear grade                      \n",
      "2008     6        17355.0       0.48\n",
      "the highest default rate of 0.48 was found among 2008 G's !\n"
     ]
    }
   ],
   "source": [
    "defaultGroupings = defaultDf.groupby(['origYear', 'grade']).mean()\n",
    "cohorts = defaultGroupings.sort_values(by = \"defaulted\", ascending = False)\n",
    "maxDefaults = cohorts.iloc[:1,]\n",
    "print(maxDefaults)\n",
    "print(\"the highest default rate of 0.48 was found among 2008 G's !\")"
   ]
  },
  {
   "cell_type": "code",
   "execution_count": 81,
   "metadata": {},
   "outputs": [
    {
     "data": {
      "text/html": [
       "<div>\n",
       "<style scoped>\n",
       "    .dataframe tbody tr th:only-of-type {\n",
       "        vertical-align: middle;\n",
       "    }\n",
       "\n",
       "    .dataframe tbody tr th {\n",
       "        vertical-align: top;\n",
       "    }\n",
       "\n",
       "    .dataframe thead tr th {\n",
       "        text-align: left;\n",
       "    }\n",
       "\n",
       "    .dataframe thead tr:last-of-type th {\n",
       "        text-align: right;\n",
       "    }\n",
       "</style>\n",
       "<table border=\"1\" class=\"dataframe\">\n",
       "  <thead>\n",
       "    <tr>\n",
       "      <th></th>\n",
       "      <th colspan=\"6\" halign=\"left\">loan_amnt</th>\n",
       "      <th colspan=\"6\" halign=\"left\">defaulted</th>\n",
       "    </tr>\n",
       "    <tr>\n",
       "      <th>grade</th>\n",
       "      <th>0</th>\n",
       "      <th>2</th>\n",
       "      <th>3</th>\n",
       "      <th>4</th>\n",
       "      <th>5</th>\n",
       "      <th>6</th>\n",
       "      <th>0</th>\n",
       "      <th>2</th>\n",
       "      <th>3</th>\n",
       "      <th>4</th>\n",
       "      <th>5</th>\n",
       "      <th>6</th>\n",
       "    </tr>\n",
       "    <tr>\n",
       "      <th>origYear</th>\n",
       "      <th></th>\n",
       "      <th></th>\n",
       "      <th></th>\n",
       "      <th></th>\n",
       "      <th></th>\n",
       "      <th></th>\n",
       "      <th></th>\n",
       "      <th></th>\n",
       "      <th></th>\n",
       "      <th></th>\n",
       "      <th></th>\n",
       "      <th></th>\n",
       "    </tr>\n",
       "  </thead>\n",
       "  <tbody>\n",
       "    <tr>\n",
       "      <th>2007</th>\n",
       "      <td>5492.105263</td>\n",
       "      <td>9423.360656</td>\n",
       "      <td>8910.333333</td>\n",
       "      <td>9985.135135</td>\n",
       "      <td>14896.428571</td>\n",
       "      <td>12160.714286</td>\n",
       "      <td>0.017544</td>\n",
       "      <td>0.131148</td>\n",
       "      <td>0.186667</td>\n",
       "      <td>0.405405</td>\n",
       "      <td>0.357143</td>\n",
       "      <td>0.285714</td>\n",
       "    </tr>\n",
       "    <tr>\n",
       "      <th>2008</th>\n",
       "      <td>6370.593220</td>\n",
       "      <td>9522.633136</td>\n",
       "      <td>8903.538813</td>\n",
       "      <td>10739.639640</td>\n",
       "      <td>12868.666667</td>\n",
       "      <td>17355.000000</td>\n",
       "      <td>0.057627</td>\n",
       "      <td>0.145957</td>\n",
       "      <td>0.178082</td>\n",
       "      <td>0.243243</td>\n",
       "      <td>0.160000</td>\n",
       "      <td>0.480000</td>\n",
       "    </tr>\n",
       "    <tr>\n",
       "      <th>2009</th>\n",
       "      <td>7238.264007</td>\n",
       "      <td>10932.600733</td>\n",
       "      <td>9786.022632</td>\n",
       "      <td>11000.076104</td>\n",
       "      <td>12581.250000</td>\n",
       "      <td>12824.137931</td>\n",
       "      <td>0.067063</td>\n",
       "      <td>0.114286</td>\n",
       "      <td>0.147527</td>\n",
       "      <td>0.171994</td>\n",
       "      <td>0.216102</td>\n",
       "      <td>0.218391</td>\n",
       "    </tr>\n",
       "    <tr>\n",
       "      <th>2010</th>\n",
       "      <td>8601.239669</td>\n",
       "      <td>10395.487668</td>\n",
       "      <td>9195.692935</td>\n",
       "      <td>11136.551233</td>\n",
       "      <td>12544.833948</td>\n",
       "      <td>17750.297619</td>\n",
       "      <td>0.043684</td>\n",
       "      <td>0.092676</td>\n",
       "      <td>0.127174</td>\n",
       "      <td>0.161290</td>\n",
       "      <td>0.191882</td>\n",
       "      <td>0.321429</td>\n",
       "    </tr>\n",
       "    <tr>\n",
       "      <th>2011</th>\n",
       "      <td>8960.284101</td>\n",
       "      <td>9554.071368</td>\n",
       "      <td>9028.983205</td>\n",
       "      <td>10579.639175</td>\n",
       "      <td>13306.801471</td>\n",
       "      <td>13944.921875</td>\n",
       "      <td>0.063990</td>\n",
       "      <td>0.105676</td>\n",
       "      <td>0.155243</td>\n",
       "      <td>0.180809</td>\n",
       "      <td>0.205882</td>\n",
       "      <td>0.265625</td>\n",
       "    </tr>\n",
       "    <tr>\n",
       "      <th>2012</th>\n",
       "      <td>11117.742761</td>\n",
       "      <td>11003.840186</td>\n",
       "      <td>11505.734340</td>\n",
       "      <td>13850.488841</td>\n",
       "      <td>20197.088608</td>\n",
       "      <td>20857.086614</td>\n",
       "      <td>0.071874</td>\n",
       "      <td>0.124963</td>\n",
       "      <td>0.175248</td>\n",
       "      <td>0.210350</td>\n",
       "      <td>0.218987</td>\n",
       "      <td>0.181102</td>\n",
       "    </tr>\n",
       "    <tr>\n",
       "      <th>2013</th>\n",
       "      <td>15161.814175</td>\n",
       "      <td>12902.093166</td>\n",
       "      <td>12308.070977</td>\n",
       "      <td>10668.799792</td>\n",
       "      <td>10528.041977</td>\n",
       "      <td>10502.150538</td>\n",
       "      <td>0.065538</td>\n",
       "      <td>0.138637</td>\n",
       "      <td>0.215812</td>\n",
       "      <td>0.286572</td>\n",
       "      <td>0.334219</td>\n",
       "      <td>0.381720</td>\n",
       "    </tr>\n",
       "    <tr>\n",
       "      <th>2014</th>\n",
       "      <td>14028.026530</td>\n",
       "      <td>12343.910414</td>\n",
       "      <td>11835.029310</td>\n",
       "      <td>11343.604651</td>\n",
       "      <td>11015.767519</td>\n",
       "      <td>9854.029304</td>\n",
       "      <td>0.062371</td>\n",
       "      <td>0.126243</td>\n",
       "      <td>0.206138</td>\n",
       "      <td>0.276868</td>\n",
       "      <td>0.351502</td>\n",
       "      <td>0.411477</td>\n",
       "    </tr>\n",
       "    <tr>\n",
       "      <th>2015</th>\n",
       "      <td>13360.210071</td>\n",
       "      <td>11605.380251</td>\n",
       "      <td>11110.070327</td>\n",
       "      <td>12126.353582</td>\n",
       "      <td>13326.607884</td>\n",
       "      <td>11016.040462</td>\n",
       "      <td>0.031820</td>\n",
       "      <td>0.066494</td>\n",
       "      <td>0.106592</td>\n",
       "      <td>0.166061</td>\n",
       "      <td>0.243776</td>\n",
       "      <td>0.283237</td>\n",
       "    </tr>\n",
       "  </tbody>\n",
       "</table>\n",
       "</div>"
      ],
      "text/plain": [
       "             loan_amnt                                            \\\n",
       "grade                0             2             3             4   \n",
       "origYear                                                           \n",
       "2007       5492.105263   9423.360656   8910.333333   9985.135135   \n",
       "2008       6370.593220   9522.633136   8903.538813  10739.639640   \n",
       "2009       7238.264007  10932.600733   9786.022632  11000.076104   \n",
       "2010       8601.239669  10395.487668   9195.692935  11136.551233   \n",
       "2011       8960.284101   9554.071368   9028.983205  10579.639175   \n",
       "2012      11117.742761  11003.840186  11505.734340  13850.488841   \n",
       "2013      15161.814175  12902.093166  12308.070977  10668.799792   \n",
       "2014      14028.026530  12343.910414  11835.029310  11343.604651   \n",
       "2015      13360.210071  11605.380251  11110.070327  12126.353582   \n",
       "\n",
       "                                     defaulted                                \\\n",
       "grade                5             6         0         2         3         4   \n",
       "origYear                                                                       \n",
       "2007      14896.428571  12160.714286  0.017544  0.131148  0.186667  0.405405   \n",
       "2008      12868.666667  17355.000000  0.057627  0.145957  0.178082  0.243243   \n",
       "2009      12581.250000  12824.137931  0.067063  0.114286  0.147527  0.171994   \n",
       "2010      12544.833948  17750.297619  0.043684  0.092676  0.127174  0.161290   \n",
       "2011      13306.801471  13944.921875  0.063990  0.105676  0.155243  0.180809   \n",
       "2012      20197.088608  20857.086614  0.071874  0.124963  0.175248  0.210350   \n",
       "2013      10528.041977  10502.150538  0.065538  0.138637  0.215812  0.286572   \n",
       "2014      11015.767519   9854.029304  0.062371  0.126243  0.206138  0.276868   \n",
       "2015      13326.607884  11016.040462  0.031820  0.066494  0.106592  0.166061   \n",
       "\n",
       "                              \n",
       "grade            5         6  \n",
       "origYear                      \n",
       "2007      0.357143  0.285714  \n",
       "2008      0.160000  0.480000  \n",
       "2009      0.216102  0.218391  \n",
       "2010      0.191882  0.321429  \n",
       "2011      0.205882  0.265625  \n",
       "2012      0.218987  0.181102  \n",
       "2013      0.334219  0.381720  \n",
       "2014      0.351502  0.411477  \n",
       "2015      0.243776  0.283237  "
      ]
     },
     "execution_count": 81,
     "metadata": {},
     "output_type": "execute_result"
    }
   ],
   "source": [
    "defaultGroupings.unstack()"
   ]
  },
  {
   "cell_type": "code",
   "execution_count": 40,
   "metadata": {},
   "outputs": [
    {
     "name": "stderr",
     "output_type": "stream",
     "text": [
      "/anaconda3/lib/python3.7/site-packages/ipykernel_launcher.py:1: SettingWithCopyWarning: \n",
      "A value is trying to be set on a copy of a slice from a DataFrame.\n",
      "Try using .loc[row_indexer,col_indexer] = value instead\n",
      "\n",
      "See the caveats in the documentation: http://pandas.pydata.org/pandas-docs/stable/indexing.html#indexing-view-versus-copy\n",
      "  \"\"\"Entry point for launching an IPython kernel.\n"
     ]
    },
    {
     "data": {
      "text/html": [
       "<div>\n",
       "<style scoped>\n",
       "    .dataframe tbody tr th:only-of-type {\n",
       "        vertical-align: middle;\n",
       "    }\n",
       "\n",
       "    .dataframe tbody tr th {\n",
       "        vertical-align: top;\n",
       "    }\n",
       "\n",
       "    .dataframe thead th {\n",
       "        text-align: right;\n",
       "    }\n",
       "</style>\n",
       "<table border=\"1\" class=\"dataframe\">\n",
       "  <thead>\n",
       "    <tr style=\"text-align: right;\">\n",
       "      <th></th>\n",
       "      <th></th>\n",
       "      <th>sum</th>\n",
       "    </tr>\n",
       "    <tr>\n",
       "      <th>origYear</th>\n",
       "      <th>grade</th>\n",
       "      <th></th>\n",
       "    </tr>\n",
       "  </thead>\n",
       "  <tbody>\n",
       "    <tr>\n",
       "      <th>2008</th>\n",
       "      <th>6</th>\n",
       "      <td>0.500144</td>\n",
       "    </tr>\n",
       "    <tr>\n",
       "      <th>2007</th>\n",
       "      <th>5</th>\n",
       "      <td>0.479861</td>\n",
       "    </tr>\n",
       "    <tr>\n",
       "      <th>2014</th>\n",
       "      <th>6</th>\n",
       "      <td>0.448064</td>\n",
       "    </tr>\n",
       "    <tr>\n",
       "      <th>2013</th>\n",
       "      <th>6</th>\n",
       "      <td>0.409977</td>\n",
       "    </tr>\n",
       "    <tr>\n",
       "      <th>2014</th>\n",
       "      <th>5</th>\n",
       "      <td>0.368841</td>\n",
       "    </tr>\n",
       "  </tbody>\n",
       "</table>\n",
       "</div>"
      ],
      "text/plain": [
       "                     sum\n",
       "origYear grade          \n",
       "2008     6      0.500144\n",
       "2007     5      0.479861\n",
       "2014     6      0.448064\n",
       "2013     6      0.409977\n",
       "2014     5      0.368841"
      ]
     },
     "execution_count": 40,
     "metadata": {},
     "output_type": "execute_result"
    }
   ],
   "source": [
    "defaultDf[\"weightedAmnt\"] = defaultDf[\"defaulted\"].astype(float).values *  defaultDf[\"loan_amnt\"].astype(float).values \n",
    "defaultWeighted = defaultDf.groupby([\"origYear\", \"grade\"]).agg({'weightedAmnt': ['sum'], 'loan_amnt': 'sum'})\n",
    "defaultWeighted = defaultWeighted[\"weightedAmnt\"].astype(float) / defaultWeighted[\"loan_amnt\"].astype(float)\n",
    "defaultWeighted.sort_values(by = \"sum\", ascending = False).head()"
   ]
  },
  {
   "cell_type": "markdown",
   "metadata": {},
   "source": [
    "##### 2008 G's are still the highest default prob when weighted by loan size at 50% chance of default"
   ]
  },
  {
   "cell_type": "markdown",
   "metadata": {},
   "source": [
    "### annualized rate of return"
   ]
  },
  {
   "cell_type": "code",
   "execution_count": 41,
   "metadata": {},
   "outputs": [],
   "source": [
    "rateReturn = shortTerm"
   ]
  },
  {
   "cell_type": "code",
   "execution_count": 42,
   "metadata": {},
   "outputs": [],
   "source": [
    "rateReturn[\"annualizedRateReturn\"] = np.power((rateReturn[\"total_pymnt\"] / rateReturn[\"funded_amnt\"]), 1/3) - 1"
   ]
  },
  {
   "cell_type": "code",
   "execution_count": 43,
   "metadata": {},
   "outputs": [],
   "source": [
    "rateReturn = rateReturn[[\"annualizedRateReturn\", \"origYear\", \"grade\"]]"
   ]
  },
  {
   "cell_type": "code",
   "execution_count": 80,
   "metadata": {},
   "outputs": [
    {
     "data": {
      "text/html": [
       "<div>\n",
       "<style scoped>\n",
       "    .dataframe tbody tr th:only-of-type {\n",
       "        vertical-align: middle;\n",
       "    }\n",
       "\n",
       "    .dataframe tbody tr th {\n",
       "        vertical-align: top;\n",
       "    }\n",
       "\n",
       "    .dataframe thead th {\n",
       "        text-align: right;\n",
       "    }\n",
       "</style>\n",
       "<table border=\"1\" class=\"dataframe\">\n",
       "  <thead>\n",
       "    <tr style=\"text-align: right;\">\n",
       "      <th></th>\n",
       "      <th>annualizedRateReturn</th>\n",
       "      <th>origYear</th>\n",
       "      <th>grade</th>\n",
       "    </tr>\n",
       "  </thead>\n",
       "  <tbody>\n",
       "    <tr>\n",
       "      <th>0</th>\n",
       "      <td>0.054393</td>\n",
       "      <td>2011</td>\n",
       "      <td>2</td>\n",
       "    </tr>\n",
       "    <tr>\n",
       "      <th>2</th>\n",
       "      <td>0.077654</td>\n",
       "      <td>2011</td>\n",
       "      <td>3</td>\n",
       "    </tr>\n",
       "    <tr>\n",
       "      <th>3</th>\n",
       "      <td>0.069297</td>\n",
       "      <td>2011</td>\n",
       "      <td>3</td>\n",
       "    </tr>\n",
       "    <tr>\n",
       "      <th>5</th>\n",
       "      <td>0.040435</td>\n",
       "      <td>2011</td>\n",
       "      <td>0</td>\n",
       "    </tr>\n",
       "    <tr>\n",
       "      <th>7</th>\n",
       "      <td>0.094940</td>\n",
       "      <td>2011</td>\n",
       "      <td>5</td>\n",
       "    </tr>\n",
       "  </tbody>\n",
       "</table>\n",
       "</div>"
      ],
      "text/plain": [
       "   annualizedRateReturn origYear  grade\n",
       "0              0.054393     2011      2\n",
       "2              0.077654     2011      3\n",
       "3              0.069297     2011      3\n",
       "5              0.040435     2011      0\n",
       "7              0.094940     2011      5"
      ]
     },
     "execution_count": 80,
     "metadata": {},
     "output_type": "execute_result"
    }
   ],
   "source": [
    "rateReturn.head()"
   ]
  },
  {
   "cell_type": "code",
   "execution_count": 45,
   "metadata": {},
   "outputs": [],
   "source": [
    "returnCohorts = rateReturn.groupby(['origYear', 'grade']).mean()\n",
    "returnCohorts = returnCohorts.sort_values(by = \"annualizedRateReturn\", ascending = False)"
   ]
  },
  {
   "cell_type": "markdown",
   "metadata": {},
   "source": [
    "#### below is a summary of the annualized rate of return for each cohort (grouped by origination year and grade)"
   ]
  },
  {
   "cell_type": "code",
   "execution_count": 46,
   "metadata": {},
   "outputs": [
    {
     "data": {
      "text/html": [
       "<div>\n",
       "<style scoped>\n",
       "    .dataframe tbody tr th:only-of-type {\n",
       "        vertical-align: middle;\n",
       "    }\n",
       "\n",
       "    .dataframe tbody tr th {\n",
       "        vertical-align: top;\n",
       "    }\n",
       "\n",
       "    .dataframe thead tr th {\n",
       "        text-align: left;\n",
       "    }\n",
       "\n",
       "    .dataframe thead tr:last-of-type th {\n",
       "        text-align: right;\n",
       "    }\n",
       "</style>\n",
       "<table border=\"1\" class=\"dataframe\">\n",
       "  <thead>\n",
       "    <tr>\n",
       "      <th></th>\n",
       "      <th colspan=\"6\" halign=\"left\">annualizedRateReturn</th>\n",
       "    </tr>\n",
       "    <tr>\n",
       "      <th>grade</th>\n",
       "      <th>0</th>\n",
       "      <th>2</th>\n",
       "      <th>3</th>\n",
       "      <th>4</th>\n",
       "      <th>5</th>\n",
       "      <th>6</th>\n",
       "    </tr>\n",
       "    <tr>\n",
       "      <th>origYear</th>\n",
       "      <th></th>\n",
       "      <th></th>\n",
       "      <th></th>\n",
       "      <th></th>\n",
       "      <th></th>\n",
       "      <th></th>\n",
       "    </tr>\n",
       "  </thead>\n",
       "  <tbody>\n",
       "    <tr>\n",
       "      <th>2007</th>\n",
       "      <td>0.027176</td>\n",
       "      <td>0.012265</td>\n",
       "      <td>0.012208</td>\n",
       "      <td>-0.023199</td>\n",
       "      <td>-0.009098</td>\n",
       "      <td>0.031161</td>\n",
       "    </tr>\n",
       "    <tr>\n",
       "      <th>2008</th>\n",
       "      <td>0.025285</td>\n",
       "      <td>0.009916</td>\n",
       "      <td>0.009593</td>\n",
       "      <td>-0.010402</td>\n",
       "      <td>0.022560</td>\n",
       "      <td>-0.071268</td>\n",
       "    </tr>\n",
       "    <tr>\n",
       "      <th>2009</th>\n",
       "      <td>0.021317</td>\n",
       "      <td>0.017141</td>\n",
       "      <td>0.014591</td>\n",
       "      <td>0.018891</td>\n",
       "      <td>0.002592</td>\n",
       "      <td>0.030043</td>\n",
       "    </tr>\n",
       "    <tr>\n",
       "      <th>2010</th>\n",
       "      <td>0.021648</td>\n",
       "      <td>0.023139</td>\n",
       "      <td>0.024831</td>\n",
       "      <td>0.023060</td>\n",
       "      <td>0.018264</td>\n",
       "      <td>-0.010835</td>\n",
       "    </tr>\n",
       "    <tr>\n",
       "      <th>2011</th>\n",
       "      <td>0.014910</td>\n",
       "      <td>0.021848</td>\n",
       "      <td>0.017563</td>\n",
       "      <td>0.021422</td>\n",
       "      <td>0.024065</td>\n",
       "      <td>0.015600</td>\n",
       "    </tr>\n",
       "    <tr>\n",
       "      <th>2012</th>\n",
       "      <td>0.015651</td>\n",
       "      <td>0.023376</td>\n",
       "      <td>0.021841</td>\n",
       "      <td>0.023836</td>\n",
       "      <td>0.031327</td>\n",
       "      <td>0.034269</td>\n",
       "    </tr>\n",
       "    <tr>\n",
       "      <th>2013</th>\n",
       "      <td>0.011632</td>\n",
       "      <td>0.006965</td>\n",
       "      <td>-0.002854</td>\n",
       "      <td>-0.014875</td>\n",
       "      <td>-0.026810</td>\n",
       "      <td>-0.045979</td>\n",
       "    </tr>\n",
       "    <tr>\n",
       "      <th>2014</th>\n",
       "      <td>-0.002589</td>\n",
       "      <td>-0.013946</td>\n",
       "      <td>-0.037361</td>\n",
       "      <td>-0.057194</td>\n",
       "      <td>-0.079325</td>\n",
       "      <td>-0.094071</td>\n",
       "    </tr>\n",
       "    <tr>\n",
       "      <th>2015</th>\n",
       "      <td>-0.012722</td>\n",
       "      <td>-0.026685</td>\n",
       "      <td>-0.043013</td>\n",
       "      <td>-0.071553</td>\n",
       "      <td>-0.108845</td>\n",
       "      <td>-0.134226</td>\n",
       "    </tr>\n",
       "  </tbody>\n",
       "</table>\n",
       "</div>"
      ],
      "text/plain": [
       "         annualizedRateReturn                                          \\\n",
       "grade                       0         2         3         4         5   \n",
       "origYear                                                                \n",
       "2007                 0.027176  0.012265  0.012208 -0.023199 -0.009098   \n",
       "2008                 0.025285  0.009916  0.009593 -0.010402  0.022560   \n",
       "2009                 0.021317  0.017141  0.014591  0.018891  0.002592   \n",
       "2010                 0.021648  0.023139  0.024831  0.023060  0.018264   \n",
       "2011                 0.014910  0.021848  0.017563  0.021422  0.024065   \n",
       "2012                 0.015651  0.023376  0.021841  0.023836  0.031327   \n",
       "2013                 0.011632  0.006965 -0.002854 -0.014875 -0.026810   \n",
       "2014                -0.002589 -0.013946 -0.037361 -0.057194 -0.079325   \n",
       "2015                -0.012722 -0.026685 -0.043013 -0.071553 -0.108845   \n",
       "\n",
       "                    \n",
       "grade            6  \n",
       "origYear            \n",
       "2007      0.031161  \n",
       "2008     -0.071268  \n",
       "2009      0.030043  \n",
       "2010     -0.010835  \n",
       "2011      0.015600  \n",
       "2012      0.034269  \n",
       "2013     -0.045979  \n",
       "2014     -0.094071  \n",
       "2015     -0.134226  "
      ]
     },
     "execution_count": 46,
     "metadata": {},
     "output_type": "execute_result"
    }
   ],
   "source": [
    "rateReturn.groupby(['origYear', 'grade']).mean().unstack()"
   ]
  },
  {
   "cell_type": "markdown",
   "metadata": {},
   "source": [
    "# Part 3 - Modeling"
   ]
  },
  {
   "cell_type": "code",
   "execution_count": 47,
   "metadata": {},
   "outputs": [
    {
     "data": {
      "text/html": [
       "<div>\n",
       "<style scoped>\n",
       "    .dataframe tbody tr th:only-of-type {\n",
       "        vertical-align: middle;\n",
       "    }\n",
       "\n",
       "    .dataframe tbody tr th {\n",
       "        vertical-align: top;\n",
       "    }\n",
       "\n",
       "    .dataframe thead th {\n",
       "        text-align: right;\n",
       "    }\n",
       "</style>\n",
       "<table border=\"1\" class=\"dataframe\">\n",
       "  <thead>\n",
       "    <tr style=\"text-align: right;\">\n",
       "      <th></th>\n",
       "      <th>60 months</th>\n",
       "      <th>id</th>\n",
       "      <th>member_id</th>\n",
       "      <th>loan_amnt</th>\n",
       "      <th>funded_amnt</th>\n",
       "      <th>funded_amnt_inv</th>\n",
       "      <th>int_rate</th>\n",
       "      <th>installment</th>\n",
       "      <th>sub_grade</th>\n",
       "      <th>emp_title</th>\n",
       "      <th>...</th>\n",
       "      <th>open_rv_12m</th>\n",
       "      <th>open_rv_24m</th>\n",
       "      <th>max_bal_bc</th>\n",
       "      <th>all_util</th>\n",
       "      <th>total_rev_hi_lim</th>\n",
       "      <th>inq_fi</th>\n",
       "      <th>total_cu_tl</th>\n",
       "      <th>inq_last_12m</th>\n",
       "      <th>origYear</th>\n",
       "      <th>grade</th>\n",
       "    </tr>\n",
       "  </thead>\n",
       "  <tbody>\n",
       "    <tr>\n",
       "      <th>0</th>\n",
       "      <td>0</td>\n",
       "      <td>1077501</td>\n",
       "      <td>1296599</td>\n",
       "      <td>5000.0</td>\n",
       "      <td>5000.0</td>\n",
       "      <td>4975.0</td>\n",
       "      <td>10.65</td>\n",
       "      <td>162.87</td>\n",
       "      <td>B2</td>\n",
       "      <td>NaN</td>\n",
       "      <td>...</td>\n",
       "      <td>NaN</td>\n",
       "      <td>NaN</td>\n",
       "      <td>NaN</td>\n",
       "      <td>NaN</td>\n",
       "      <td>NaN</td>\n",
       "      <td>NaN</td>\n",
       "      <td>NaN</td>\n",
       "      <td>NaN</td>\n",
       "      <td>2011</td>\n",
       "      <td>2</td>\n",
       "    </tr>\n",
       "    <tr>\n",
       "      <th>1</th>\n",
       "      <td>1</td>\n",
       "      <td>1077430</td>\n",
       "      <td>1314167</td>\n",
       "      <td>2500.0</td>\n",
       "      <td>2500.0</td>\n",
       "      <td>2500.0</td>\n",
       "      <td>15.27</td>\n",
       "      <td>59.83</td>\n",
       "      <td>C4</td>\n",
       "      <td>Ryder</td>\n",
       "      <td>...</td>\n",
       "      <td>NaN</td>\n",
       "      <td>NaN</td>\n",
       "      <td>NaN</td>\n",
       "      <td>NaN</td>\n",
       "      <td>NaN</td>\n",
       "      <td>NaN</td>\n",
       "      <td>NaN</td>\n",
       "      <td>NaN</td>\n",
       "      <td>2011</td>\n",
       "      <td>3</td>\n",
       "    </tr>\n",
       "    <tr>\n",
       "      <th>2</th>\n",
       "      <td>0</td>\n",
       "      <td>1077175</td>\n",
       "      <td>1313524</td>\n",
       "      <td>2400.0</td>\n",
       "      <td>2400.0</td>\n",
       "      <td>2400.0</td>\n",
       "      <td>15.96</td>\n",
       "      <td>84.33</td>\n",
       "      <td>C5</td>\n",
       "      <td>NaN</td>\n",
       "      <td>...</td>\n",
       "      <td>NaN</td>\n",
       "      <td>NaN</td>\n",
       "      <td>NaN</td>\n",
       "      <td>NaN</td>\n",
       "      <td>NaN</td>\n",
       "      <td>NaN</td>\n",
       "      <td>NaN</td>\n",
       "      <td>NaN</td>\n",
       "      <td>2011</td>\n",
       "      <td>3</td>\n",
       "    </tr>\n",
       "    <tr>\n",
       "      <th>3</th>\n",
       "      <td>0</td>\n",
       "      <td>1076863</td>\n",
       "      <td>1277178</td>\n",
       "      <td>10000.0</td>\n",
       "      <td>10000.0</td>\n",
       "      <td>10000.0</td>\n",
       "      <td>13.49</td>\n",
       "      <td>339.31</td>\n",
       "      <td>C1</td>\n",
       "      <td>AIR RESOURCES BOARD</td>\n",
       "      <td>...</td>\n",
       "      <td>NaN</td>\n",
       "      <td>NaN</td>\n",
       "      <td>NaN</td>\n",
       "      <td>NaN</td>\n",
       "      <td>NaN</td>\n",
       "      <td>NaN</td>\n",
       "      <td>NaN</td>\n",
       "      <td>NaN</td>\n",
       "      <td>2011</td>\n",
       "      <td>3</td>\n",
       "    </tr>\n",
       "    <tr>\n",
       "      <th>4</th>\n",
       "      <td>1</td>\n",
       "      <td>1075358</td>\n",
       "      <td>1311748</td>\n",
       "      <td>3000.0</td>\n",
       "      <td>3000.0</td>\n",
       "      <td>3000.0</td>\n",
       "      <td>12.69</td>\n",
       "      <td>67.79</td>\n",
       "      <td>B5</td>\n",
       "      <td>University Medical Group</td>\n",
       "      <td>...</td>\n",
       "      <td>NaN</td>\n",
       "      <td>NaN</td>\n",
       "      <td>NaN</td>\n",
       "      <td>NaN</td>\n",
       "      <td>NaN</td>\n",
       "      <td>NaN</td>\n",
       "      <td>NaN</td>\n",
       "      <td>NaN</td>\n",
       "      <td>2011</td>\n",
       "      <td>2</td>\n",
       "    </tr>\n",
       "  </tbody>\n",
       "</table>\n",
       "<p>5 rows × 74 columns</p>\n",
       "</div>"
      ],
      "text/plain": [
       "    60 months       id  member_id  loan_amnt  funded_amnt  funded_amnt_inv  \\\n",
       "0           0  1077501    1296599     5000.0       5000.0           4975.0   \n",
       "1           1  1077430    1314167     2500.0       2500.0           2500.0   \n",
       "2           0  1077175    1313524     2400.0       2400.0           2400.0   \n",
       "3           0  1076863    1277178    10000.0      10000.0          10000.0   \n",
       "4           1  1075358    1311748     3000.0       3000.0           3000.0   \n",
       "\n",
       "   int_rate  installment sub_grade                 emp_title  ...   \\\n",
       "0     10.65       162.87        B2                       NaN  ...    \n",
       "1     15.27        59.83        C4                     Ryder  ...    \n",
       "2     15.96        84.33        C5                       NaN  ...    \n",
       "3     13.49       339.31        C1       AIR RESOURCES BOARD  ...    \n",
       "4     12.69        67.79        B5  University Medical Group  ...    \n",
       "\n",
       "  open_rv_12m open_rv_24m  max_bal_bc all_util total_rev_hi_lim inq_fi  \\\n",
       "0         NaN         NaN         NaN      NaN              NaN    NaN   \n",
       "1         NaN         NaN         NaN      NaN              NaN    NaN   \n",
       "2         NaN         NaN         NaN      NaN              NaN    NaN   \n",
       "3         NaN         NaN         NaN      NaN              NaN    NaN   \n",
       "4         NaN         NaN         NaN      NaN              NaN    NaN   \n",
       "\n",
       "  total_cu_tl inq_last_12m origYear grade  \n",
       "0         NaN          NaN     2011     2  \n",
       "1         NaN          NaN     2011     3  \n",
       "2         NaN          NaN     2011     3  \n",
       "3         NaN          NaN     2011     3  \n",
       "4         NaN          NaN     2011     2  \n",
       "\n",
       "[5 rows x 74 columns]"
      ]
     },
     "execution_count": 47,
     "metadata": {},
     "output_type": "execute_result"
    }
   ],
   "source": [
    "modelDf = typedDf.copy(deep = True)\n",
    "modelDf.head()"
   ]
  },
  {
   "cell_type": "markdown",
   "metadata": {},
   "source": [
    "let's get rid of outliers we detected in part 1"
   ]
  },
  {
   "cell_type": "code",
   "execution_count": 48,
   "metadata": {},
   "outputs": [],
   "source": [
    "modelDf = modelDf[modelDf[\"dti\"] < 300]"
   ]
  },
  {
   "cell_type": "code",
   "execution_count": 49,
   "metadata": {},
   "outputs": [],
   "source": [
    "modelDf = modelDf[modelDf[\"annual_inc\"] < 300000]"
   ]
  },
  {
   "cell_type": "code",
   "execution_count": 50,
   "metadata": {},
   "outputs": [],
   "source": [
    "balCuts = pd.cut(modelDf[\"revol_bal\"], bins = [-2, 10000, 25000, 5000000], labels = [\"low\", \"medium\", \"high\"])\n",
    "modelDf = modelDf.join(pd.get_dummies(balCuts, prefix=\"revol_bal\")).drop(columns = [\"revol_bal\"])\n"
   ]
  },
  {
   "cell_type": "code",
   "execution_count": 51,
   "metadata": {},
   "outputs": [],
   "source": [
    "modelDf = modelDf[(modelDf[\"loan_status\"] == \"Fully Paid\") |\n",
    "                                          (modelDf[\"loan_status\"] == \"Charged Off\") |\n",
    "                                          (modelDf[\"loan_status\"] == \"Default\")]\n",
    "statusDummies = pd.get_dummies(modelDf[\"loan_status\"])\n",
    "modelDf[\"defaulted\"] = (statusDummies[[\"Fully Paid\"]] * - 1) + 1"
   ]
  },
  {
   "cell_type": "markdown",
   "metadata": {},
   "source": [
    "### first pass using the variables used in data analysis thus far"
   ]
  },
  {
   "cell_type": "code",
   "execution_count": 52,
   "metadata": {},
   "outputs": [],
   "source": [
    "firstPassRegression = modelDf[[\"loan_amnt\", \" 60 months\", \"int_rate\", \"annual_inc\", \n",
    "         \"dti\", \"revol_bal_low\", \"revol_bal_medium\", \"revol_bal_high\", \"total_pymnt\", \"loan_status\"]]"
   ]
  },
  {
   "cell_type": "markdown",
   "metadata": {},
   "source": [
    "### create features / labels"
   ]
  },
  {
   "cell_type": "code",
   "execution_count": 53,
   "metadata": {},
   "outputs": [],
   "source": [
    "firstPassRegression = firstPassRegression[(firstPassRegression[\"loan_status\"] == \"Fully Paid\") |\n",
    "                                          (firstPassRegression[\"loan_status\"] == \"Charged Off\") |\n",
    "                                          (firstPassRegression[\"loan_status\"] == \"Default\")]\n",
    "statusDummies = pd.get_dummies(firstPassRegression[\"loan_status\"])\n",
    "firstPassRegression[\"defaulted\"] = (statusDummies[[\"Fully Paid\"]] * - 1) + 1"
   ]
  },
  {
   "cell_type": "code",
   "execution_count": 54,
   "metadata": {},
   "outputs": [
    {
     "data": {
      "text/plain": [
       "loan_amnt           0.835559\n",
       " 60 months          1.327907\n",
       "int_rate            0.344773\n",
       "annual_inc          1.664479\n",
       "dti                 0.209818\n",
       "revol_bal_low       0.162529\n",
       "revol_bal_medium    0.458102\n",
       "revol_bal_high      1.937187\n",
       "total_pymnt         1.063420\n",
       "dtype: float64"
      ]
     },
     "execution_count": 54,
     "metadata": {},
     "output_type": "execute_result"
    }
   ],
   "source": [
    "labels = firstPassRegression[\"defaulted\"]\n",
    "features = firstPassRegression.drop(columns=[\"defaulted\", \"loan_status\"])\n",
    "features.skew()"
   ]
  },
  {
   "cell_type": "markdown",
   "metadata": {},
   "source": [
    "### split train and test"
   ]
  },
  {
   "cell_type": "code",
   "execution_count": 55,
   "metadata": {},
   "outputs": [],
   "source": [
    "# Using Skicit-learn to split data into training and testing sets\n",
    "from sklearn.model_selection import train_test_split\n",
    "# Split the data into training and testing sets\n",
    "train_features, test_features, train_labels, test_labels = train_test_split(features, labels, test_size = 0.25, random_state = 42)"
   ]
  },
  {
   "cell_type": "code",
   "execution_count": 56,
   "metadata": {},
   "outputs": [
    {
     "data": {
      "text/html": [
       "<div>\n",
       "<style scoped>\n",
       "    .dataframe tbody tr th:only-of-type {\n",
       "        vertical-align: middle;\n",
       "    }\n",
       "\n",
       "    .dataframe tbody tr th {\n",
       "        vertical-align: top;\n",
       "    }\n",
       "\n",
       "    .dataframe thead th {\n",
       "        text-align: right;\n",
       "    }\n",
       "</style>\n",
       "<table border=\"1\" class=\"dataframe\">\n",
       "  <thead>\n",
       "    <tr style=\"text-align: right;\">\n",
       "      <th></th>\n",
       "      <th>loan_amnt</th>\n",
       "      <th>60 months</th>\n",
       "      <th>int_rate</th>\n",
       "      <th>annual_inc</th>\n",
       "      <th>dti</th>\n",
       "      <th>revol_bal_low</th>\n",
       "      <th>revol_bal_medium</th>\n",
       "      <th>revol_bal_high</th>\n",
       "      <th>total_pymnt</th>\n",
       "    </tr>\n",
       "  </thead>\n",
       "  <tbody>\n",
       "    <tr>\n",
       "      <th>count</th>\n",
       "      <td>189673.000000</td>\n",
       "      <td>189673.000000</td>\n",
       "      <td>189673.000000</td>\n",
       "      <td>189673.000000</td>\n",
       "      <td>189673.000000</td>\n",
       "      <td>189673.000000</td>\n",
       "      <td>189673.000000</td>\n",
       "      <td>189673.000000</td>\n",
       "      <td>189673.000000</td>\n",
       "    </tr>\n",
       "    <tr>\n",
       "      <th>mean</th>\n",
       "      <td>13512.041382</td>\n",
       "      <td>0.223189</td>\n",
       "      <td>13.774905</td>\n",
       "      <td>70408.698074</td>\n",
       "      <td>16.598103</td>\n",
       "      <td>0.460261</td>\n",
       "      <td>0.387920</td>\n",
       "      <td>0.151819</td>\n",
       "      <td>13509.763273</td>\n",
       "    </tr>\n",
       "    <tr>\n",
       "      <th>std</th>\n",
       "      <td>8088.289041</td>\n",
       "      <td>0.416385</td>\n",
       "      <td>4.398564</td>\n",
       "      <td>37542.675402</td>\n",
       "      <td>7.771600</td>\n",
       "      <td>0.498420</td>\n",
       "      <td>0.487278</td>\n",
       "      <td>0.358846</td>\n",
       "      <td>9424.583792</td>\n",
       "    </tr>\n",
       "    <tr>\n",
       "      <th>min</th>\n",
       "      <td>500.000000</td>\n",
       "      <td>0.000000</td>\n",
       "      <td>5.320000</td>\n",
       "      <td>3000.000000</td>\n",
       "      <td>0.000000</td>\n",
       "      <td>0.000000</td>\n",
       "      <td>0.000000</td>\n",
       "      <td>0.000000</td>\n",
       "      <td>0.000000</td>\n",
       "    </tr>\n",
       "    <tr>\n",
       "      <th>25%</th>\n",
       "      <td>7200.000000</td>\n",
       "      <td>0.000000</td>\n",
       "      <td>10.740000</td>\n",
       "      <td>45000.000000</td>\n",
       "      <td>10.820000</td>\n",
       "      <td>0.000000</td>\n",
       "      <td>0.000000</td>\n",
       "      <td>0.000000</td>\n",
       "      <td>6335.830000</td>\n",
       "    </tr>\n",
       "    <tr>\n",
       "      <th>50%</th>\n",
       "      <td>12000.000000</td>\n",
       "      <td>0.000000</td>\n",
       "      <td>13.530000</td>\n",
       "      <td>62000.000000</td>\n",
       "      <td>16.260000</td>\n",
       "      <td>0.000000</td>\n",
       "      <td>0.000000</td>\n",
       "      <td>0.000000</td>\n",
       "      <td>11397.290000</td>\n",
       "    </tr>\n",
       "    <tr>\n",
       "      <th>75%</th>\n",
       "      <td>18125.000000</td>\n",
       "      <td>0.000000</td>\n",
       "      <td>16.550000</td>\n",
       "      <td>86000.000000</td>\n",
       "      <td>22.040000</td>\n",
       "      <td>1.000000</td>\n",
       "      <td>1.000000</td>\n",
       "      <td>0.000000</td>\n",
       "      <td>18471.350731</td>\n",
       "    </tr>\n",
       "    <tr>\n",
       "      <th>max</th>\n",
       "      <td>35000.000000</td>\n",
       "      <td>1.000000</td>\n",
       "      <td>28.990000</td>\n",
       "      <td>298000.000000</td>\n",
       "      <td>39.990000</td>\n",
       "      <td>1.000000</td>\n",
       "      <td>1.000000</td>\n",
       "      <td>1.000000</td>\n",
       "      <td>57777.579870</td>\n",
       "    </tr>\n",
       "  </tbody>\n",
       "</table>\n",
       "</div>"
      ],
      "text/plain": [
       "           loan_amnt      60 months       int_rate     annual_inc  \\\n",
       "count  189673.000000  189673.000000  189673.000000  189673.000000   \n",
       "mean    13512.041382       0.223189      13.774905   70408.698074   \n",
       "std      8088.289041       0.416385       4.398564   37542.675402   \n",
       "min       500.000000       0.000000       5.320000    3000.000000   \n",
       "25%      7200.000000       0.000000      10.740000   45000.000000   \n",
       "50%     12000.000000       0.000000      13.530000   62000.000000   \n",
       "75%     18125.000000       0.000000      16.550000   86000.000000   \n",
       "max     35000.000000       1.000000      28.990000  298000.000000   \n",
       "\n",
       "                 dti  revol_bal_low  revol_bal_medium  revol_bal_high  \\\n",
       "count  189673.000000  189673.000000     189673.000000   189673.000000   \n",
       "mean       16.598103       0.460261          0.387920        0.151819   \n",
       "std         7.771600       0.498420          0.487278        0.358846   \n",
       "min         0.000000       0.000000          0.000000        0.000000   \n",
       "25%        10.820000       0.000000          0.000000        0.000000   \n",
       "50%        16.260000       0.000000          0.000000        0.000000   \n",
       "75%        22.040000       1.000000          1.000000        0.000000   \n",
       "max        39.990000       1.000000          1.000000        1.000000   \n",
       "\n",
       "         total_pymnt  \n",
       "count  189673.000000  \n",
       "mean    13509.763273  \n",
       "std      9424.583792  \n",
       "min         0.000000  \n",
       "25%      6335.830000  \n",
       "50%     11397.290000  \n",
       "75%     18471.350731  \n",
       "max     57777.579870  "
      ]
     },
     "execution_count": 56,
     "metadata": {},
     "output_type": "execute_result"
    }
   ],
   "source": [
    "train_features.describe()"
   ]
  },
  {
   "cell_type": "code",
   "execution_count": 57,
   "metadata": {},
   "outputs": [
    {
     "data": {
      "text/plain": [
       "<matplotlib.axes._subplots.AxesSubplot at 0x1a5dc183c8>"
      ]
     },
     "execution_count": 57,
     "metadata": {},
     "output_type": "execute_result"
    },
    {
     "data": {
      "image/png": "[encoded data removed]",
      "text/plain": [
       "<Figure size 432x288 with 2 Axes>"
      ]
     },
     "metadata": {
      "needs_background": "light"
     },
     "output_type": "display_data"
    }
   ],
   "source": [
    "sb.heatmap(train_features.corr())"
   ]
  },
  {
   "cell_type": "markdown",
   "metadata": {},
   "source": [
    "### Establish Baseline"
   ]
  },
  {
   "cell_type": "code",
   "execution_count": 58,
   "metadata": {},
   "outputs": [
    {
     "name": "stdout",
     "output_type": "stream",
     "text": [
      "baseline prediction accuracy is 0.8179\n"
     ]
    }
   ],
   "source": [
    "from sklearn.dummy import DummyClassifier\n",
    "freqentist = DummyClassifier(strategy='most_frequent')\n",
    "freqentist.fit(train_features, train_labels)\n",
    "print(\"baseline prediction accuracy is {}\".format(freqentist.score(test_features, test_labels).round(4)))"
   ]
  },
  {
   "cell_type": "markdown",
   "metadata": {},
   "source": [
    "### Try multivariate linear regression"
   ]
  },
  {
   "cell_type": "code",
   "execution_count": 59,
   "metadata": {},
   "outputs": [],
   "source": [
    "ols = linear_model.LinearRegression(normalize = False)\n",
    "model = ols.fit(train_features, train_labels)"
   ]
  },
  {
   "cell_type": "code",
   "execution_count": 60,
   "metadata": {},
   "outputs": [
    {
     "name": "stdout",
     "output_type": "stream",
     "text": [
      "OLS regression has an R^2 of 0.5977 in sample\n",
      "OLS regression has an R^2 of 0.6024 out of sample\n"
     ]
    }
   ],
   "source": [
    "print(\"OLS regression has an R^2 of {} in sample\".format(model.score(train_features, train_labels).round(4)))\n",
    "print(\"OLS regression has an R^2 of {} out of sample\".format(model.score(test_features, test_labels).round(4)))"
   ]
  },
  {
   "cell_type": "markdown",
   "metadata": {},
   "source": [
    "\n",
    "####  lets work harder on variable selection"
   ]
  },
  {
   "cell_type": "code",
   "execution_count": 61,
   "metadata": {},
   "outputs": [],
   "source": [
    "varSelection = modelDf[[\"application_type\", \"collections_12_mths_ex_med\", \"earliest_cr_line\", \"emp_length\",\n",
    "         \"funded_amnt\", \"grade\", \"home_ownership\", \"installment\", \"int_rate\",\n",
    "         \"pub_rec\", \"revol_util\", \"total_acc\", \"grade\",\n",
    "         \"acc_now_delinq\", \"recoveries\", \"loan_status\"]]"
   ]
  },
  {
   "cell_type": "code",
   "execution_count": 62,
   "metadata": {},
   "outputs": [],
   "source": [
    "varSelection = varSelection[(varSelection[\"loan_status\"] == \"Fully Paid\") |\n",
    "                                          (varSelection[\"loan_status\"] == \"Charged Off\") |\n",
    "                                          (varSelection[\"loan_status\"] == \"Default\")]\n",
    "statusDummies = pd.get_dummies(varSelection[\"loan_status\"])\n",
    "varSelection[\"defaulted\"] = (statusDummies[[\"Fully Paid\"]] * - 1) + 1"
   ]
  },
  {
   "cell_type": "code",
   "execution_count": 63,
   "metadata": {},
   "outputs": [],
   "source": [
    "applicationDummies = pd.get_dummies(varSelection[[\"application_type\", \"home_ownership\"]])\n",
    "varSelection = varSelection.drop(columns = [\"application_type\", \"home_ownership\"])\n",
    "applicationDummies = applicationDummies.drop(columns = [\"application_type_INDIVIDUAL\"])\n",
    "varSelection = applicationDummies.join(varSelection)"
   ]
  },
  {
   "cell_type": "code",
   "execution_count": 64,
   "metadata": {},
   "outputs": [],
   "source": [
    "varSelection[\"earliest_cr_line\"] = varSelection[\"earliest_cr_line\"].str.extract(\"\\w{3}-(\\d{4})\").astype(float)\n",
    "varSelection[\"emp_length\"] = varSelection[\"emp_length\"].str.extract(\"(\\d+).*\").astype(float)"
   ]
  },
  {
   "cell_type": "code",
   "execution_count": 65,
   "metadata": {},
   "outputs": [],
   "source": [
    "varSelection = varSelection.dropna()"
   ]
  },
  {
   "cell_type": "code",
   "execution_count": 66,
   "metadata": {},
   "outputs": [
    {
     "name": "stdout",
     "output_type": "stream",
     "text": [
      "<class 'pandas.core.frame.DataFrame'>\n",
      "Int64Index: 242694 entries, 0 to 887369\n",
      "Data columns (total 20 columns):\n",
      "application_type_JOINT        242694 non-null uint8\n",
      "home_ownership_ANY            242694 non-null uint8\n",
      "home_ownership_MORTGAGE       242694 non-null uint8\n",
      "home_ownership_NONE           242694 non-null uint8\n",
      "home_ownership_OTHER          242694 non-null uint8\n",
      "home_ownership_OWN            242694 non-null uint8\n",
      "home_ownership_RENT           242694 non-null uint8\n",
      "collections_12_mths_ex_med    242694 non-null float64\n",
      "earliest_cr_line              242694 non-null float64\n",
      "emp_length                    242694 non-null float64\n",
      "funded_amnt                   242694 non-null float64\n",
      "grade                         242694 non-null uint8\n",
      "installment                   242694 non-null float64\n",
      "int_rate                      242694 non-null float64\n",
      "pub_rec                       242694 non-null float64\n",
      "revol_util                    242694 non-null float64\n",
      "total_acc                     242694 non-null float64\n",
      "grade                         242694 non-null uint8\n",
      "acc_now_delinq                242694 non-null float64\n",
      "recoveries                    242694 non-null float64\n",
      "dtypes: float64(11), uint8(9)\n",
      "memory usage: 24.3 MB\n"
     ]
    }
   ],
   "source": [
    "labels = varSelection[\"defaulted\"]\n",
    "features = varSelection.drop(columns=[\"defaulted\", \"loan_status\"])\n",
    "features.info()"
   ]
  },
  {
   "cell_type": "code",
   "execution_count": 67,
   "metadata": {},
   "outputs": [],
   "source": [
    "from sklearn.feature_selection import SelectKBest\n",
    "#take 5 strongest variables\n",
    "from sklearn.feature_selection import chi2\n",
    "X_new = SelectKBest(chi2, k=5).fit_transform(features, labels)\n",
    "features = X_new"
   ]
  },
  {
   "cell_type": "code",
   "execution_count": 68,
   "metadata": {},
   "outputs": [],
   "source": [
    "from sklearn.model_selection import train_test_split\n",
    "train_features, test_features, train_labels, test_labels = train_test_split(features, labels, test_size = 0.8, random_state = 42)"
   ]
  },
  {
   "cell_type": "code",
   "execution_count": 69,
   "metadata": {},
   "outputs": [],
   "source": [
    "ols = linear_model.LinearRegression(normalize = False)\n",
    "model = ols.fit(train_features, train_labels)"
   ]
  },
  {
   "cell_type": "code",
   "execution_count": 70,
   "metadata": {},
   "outputs": [
    {
     "name": "stdout",
     "output_type": "stream",
     "text": [
      "OLS regression has an R^2 of 0.2451 in sample\n",
      "OLS regression has an R^2 of 0.2343 out of sample\n"
     ]
    }
   ],
   "source": [
    "print(\"OLS regression has an R^2 of {} in sample\".format(model.score(train_features, train_labels).round(4)))\n",
    "print(\"OLS regression has an R^2 of {} out of sample\".format(model.score(test_features, test_labels).round(4)))"
   ]
  },
  {
   "cell_type": "code",
   "execution_count": 71,
   "metadata": {},
   "outputs": [
    {
     "name": "stdout",
     "output_type": "stream",
     "text": [
      "LASSO regression has a score of 0.2305 out of sample\n"
     ]
    }
   ],
   "source": [
    "from sklearn.linear_model import Lasso\n",
    "\n",
    "from sklearn import linear_model\n",
    "clf = linear_model.Lasso(alpha=0.1)\n",
    "res = clf.fit(train_features, train_labels)\n",
    "score = res.score(test_features, test_labels)\n",
    "print(\"LASSO regression has a score of {} out of sample\".format(score.round(4)))"
   ]
  },
  {
   "cell_type": "markdown",
   "metadata": {},
   "source": [
    "#### let's be more strict about features - rank and remove"
   ]
  },
  {
   "cell_type": "code",
   "execution_count": 72,
   "metadata": {},
   "outputs": [
    {
     "name": "stderr",
     "output_type": "stream",
     "text": [
      "/anaconda3/lib/python3.7/site-packages/sklearn/linear_model/logistic.py:433: FutureWarning: Default solver will be changed to 'lbfgs' in 0.22. Specify a solver to silence this warning.\n",
      "  FutureWarning)\n"
     ]
    },
    {
     "name": "stdout",
     "output_type": "stream",
     "text": [
      "[ True  True  True  True  True]\n",
      "[1 1 1 1 1]\n"
     ]
    },
    {
     "data": {
      "text/plain": [
       "0.9138476276808339"
      ]
     },
     "execution_count": 72,
     "metadata": {},
     "output_type": "execute_result"
    }
   ],
   "source": [
    "from sklearn.feature_selection import RFE\n",
    "from sklearn.linear_model import LogisticRegression\n",
    "logreg = LogisticRegression()\n",
    "rfe = RFE(logreg, 20)\n",
    "rfe = rfe.fit(features, labels.values.ravel())\n",
    "print(rfe.support_)\n",
    "print(rfe.ranking_)\n",
    "rfe.score(test_features, test_labels)"
   ]
  },
  {
   "cell_type": "markdown",
   "metadata": {},
   "source": [
    "### remove a few features according to rfe results"
   ]
  },
  {
   "cell_type": "code",
   "execution_count": 73,
   "metadata": {},
   "outputs": [
    {
     "name": "stdout",
     "output_type": "stream",
     "text": [
      "<class 'pandas.core.frame.DataFrame'>\n",
      "Int64Index: 242694 entries, 0 to 887369\n",
      "Data columns (total 17 columns):\n",
      "home_ownership_MORTGAGE       242694 non-null uint8\n",
      "home_ownership_OTHER          242694 non-null uint8\n",
      "home_ownership_OWN            242694 non-null uint8\n",
      "home_ownership_RENT           242694 non-null uint8\n",
      "collections_12_mths_ex_med    242694 non-null float64\n",
      "earliest_cr_line              242694 non-null float64\n",
      "emp_length                    242694 non-null float64\n",
      "funded_amnt                   242694 non-null float64\n",
      "grade                         242694 non-null uint8\n",
      "installment                   242694 non-null float64\n",
      "int_rate                      242694 non-null float64\n",
      "pub_rec                       242694 non-null float64\n",
      "revol_util                    242694 non-null float64\n",
      "total_acc                     242694 non-null float64\n",
      "grade                         242694 non-null uint8\n",
      "acc_now_delinq                242694 non-null float64\n",
      "recoveries                    242694 non-null float64\n",
      "dtypes: float64(11), uint8(6)\n",
      "memory usage: 23.6 MB\n"
     ]
    }
   ],
   "source": [
    "labels = varSelection[\"defaulted\"]\n",
    "features = varSelection.drop(columns=[\"defaulted\", \"loan_status\", \"application_type_JOINT\", \"home_ownership_ANY\", \"home_ownership_NONE\"])\n",
    "features.info()"
   ]
  },
  {
   "cell_type": "code",
   "execution_count": 74,
   "metadata": {},
   "outputs": [],
   "source": [
    "from sklearn.model_selection import train_test_split\n",
    "train_features, test_features, train_labels, test_labels = train_test_split(features, labels, test_size = 0.8, random_state = 42)"
   ]
  },
  {
   "cell_type": "code",
   "execution_count": 75,
   "metadata": {},
   "outputs": [],
   "source": [
    "ols = linear_model.LinearRegression(normalize = False)\n",
    "model = ols.fit(train_features, train_labels)"
   ]
  },
  {
   "cell_type": "code",
   "execution_count": 76,
   "metadata": {},
   "outputs": [
    {
     "name": "stdout",
     "output_type": "stream",
     "text": [
      "OLS regression has an R^2 of 0.2471 in sample\n",
      "OLS regression has an R^2 of 0.2362 out of sample\n"
     ]
    }
   ],
   "source": [
    "print(\"OLS regression has an R^2 of {} in sample\".format(model.score(train_features, train_labels).round(4)))\n",
    "print(\"OLS regression has an R^2 of {} out of sample\".format(model.score(test_features, test_labels).round(4)))"
   ]
  },
  {
   "cell_type": "markdown",
   "metadata": {},
   "source": [
    "#### alas the results are similar."
   ]
  }
 ],
 "metadata": {
  "kernelspec": {
   "display_name": "Python 3",
   "language": "python",
   "name": "python3"
  },
  "language_info": {
   "codemirror_mode": {
    "name": "ipython",
    "version": 3
   },
   "file_extension": ".py",
   "mimetype": "text/x-python",
   "name": "python",
   "nbconvert_exporter": "python",
   "pygments_lexer": "ipython3",
   "version": "3.7.1"
  }
 },
 "nbformat": 4,
 "nbformat_minor": 2
}
